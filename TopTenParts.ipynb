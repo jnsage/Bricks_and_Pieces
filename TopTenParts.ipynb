{
 "cells": [
  {
   "cell_type": "code",
   "execution_count": null,
   "metadata": {},
   "outputs": [],
   "source": [
    "import pandas as pd \n",
    "import requests\n",
    "from PythonScripts.keys import KEY_ONE\n",
    "import PythonScripts.data_clean as dc\n",
    "from pathlib import Path"
   ]
  },
  {
   "cell_type": "code",
   "execution_count": null,
   "metadata": {},
   "outputs": [],
   "source": [
    "# Read CSVs off local drive and convert them each to a DataFrame\n",
    "\n",
    "inv_path = dc.csv_path('inventories.csv')\n",
    "inv_df = pd.read_csv(inv_path, usecols=['id','set_num'])\n",
    "\n",
    "inv_parts_path = dc.csv_path('inventory_parts.csv')\n",
    "inv_parts_df = pd.read_csv(inv_parts_path, usecols=['inventory_id', 'part_num', 'color_id', 'quantity'])\n",
    "\n",
    "sets_path = dc.csv_path('sets.csv')\n",
    "set_df = pd.read_csv(sets_path, usecols=['set_num', 'name', 'year', 'theme_id', 'num_parts'])\n",
    "\n",
    "parts_path = dc.csv_path('parts.csv')\n",
    "parts_df = pd.read_csv(parts_path, usecols=['part_num', 'name'])\n",
    "\n",
    "print(f'inv_df shape: {inv_df.shape}')\n",
    "print(inv_df.head(n=3))\n",
    "print(f'\\ninv_parts_df shape: {inv_parts_df.shape}')\n",
    "print(inv_parts_df.head(n=3))\n",
    "print(f'\\nset_df shape: {set_df.shape}')\n",
    "print(set_df.head(n=3))\n",
    "print(f'\\nparts_df shape: {parts_df.shape}')\n",
    "print(parts_df.head(n=3))"
   ]
  },
  {
   "cell_type": "code",
   "execution_count": null,
   "metadata": {},
   "outputs": [],
   "source": [
    "# Rename columns in inv_df and parts_df for easier joining\n",
    "print('Original column labels:')\n",
    "print(f'inv_df: {inv_df.columns}')\n",
    "print(f'parts_df: {parts_df.columns}')\n",
    "\n",
    "inv_rename_dict = {'id' : 'inventory_id',\n",
    "                   'set_num' : 'set_num'}\n",
    "inv_df.rename(columns=inv_rename_dict, inplace=True)\n",
    "\n",
    "parts_rename_dict = {'part_num' : 'part_num',\n",
    "                     'name' : 'part_name'}\n",
    "parts_df.rename(columns=parts_rename_dict, inplace=True)\n",
    "\n",
    "print('\\nRenamed column labels:')\n",
    "print(f'inv_df: {inv_df.columns}')\n",
    "print(f'parts_df: {parts_df.columns}')"
   ]
  },
  {
   "cell_type": "code",
   "execution_count": null,
   "metadata": {},
   "outputs": [],
   "source": [
    "# Merge all DataFrames into one larger DataFrame with all data points\n",
    "print(f'Original inv_df shape: {inv_df.shape}')\n",
    "\n",
    "all_merged_df = inv_df.merge(inv_parts_df, how='inner', left_on='inventory_id', right_on='inventory_id')\n",
    "print(f'Post-first merge shape: {all_merged_df.shape}')\n",
    "      \n",
    "all_merged_df = all_merged_df.merge(set_df, how='left', left_on='set_num', right_on='set_num')\n",
    "print(f'Post-second merge shape: {all_merged_df.shape}')\n",
    "\n",
    "all_merged_df = all_merged_df.merge(parts_df, how='inner', left_on='part_num', right_on='part_num')\n",
    "print(f'current all_merged_df shape: {all_merged_df.shape}')"
   ]
  },
  {
   "cell_type": "code",
   "execution_count": null,
   "metadata": {},
   "outputs": [],
   "source": [
    "# Remove all non-Star Wars themes from the Dataframe\n",
    "\n",
    "sw_theme_ids = [18, 158, 171, 209, 261]\n",
    "print(f'Star Wars Theme IDs: {sw_theme_ids}')\n",
    "all_merged_df = all_merged_df[all_merged_df['theme_id'].isin(sw_theme_ids)]\n",
    "unique_themes = all_merged_df['theme_id'].unique()\n",
    "\n",
    "print(f'Unique values in theme_id column in DataFrame: {unique_themes}')"
   ]
  },
  {
   "cell_type": "code",
   "execution_count": null,
   "metadata": {},
   "outputs": [],
   "source": [
    "# Find the set number with the most pieces\n",
    "\n",
    "piece_count = all_merged_df.groupby(['set_num'])['quantity'].sum()\n",
    "max_count = piece_count.idxmax()\n",
    "print(f'Set with highest count: {max_count}')"
   ]
  },
  {
   "cell_type": "code",
   "execution_count": null,
   "metadata": {},
   "outputs": [],
   "source": [
    "# Drop all rows from the large DataFrame except the set with most pieces\n",
    "\n",
    "print(f'Current all_merged_df shape: {all_merged_df.shape}')\n",
    "\n",
    "mask = all_merged_df[all_merged_df['set_num'] != max_count].index\n",
    "all_merged_df.drop(mask, inplace=True)\n",
    "\n",
    "print(f'Final all_merged_df shape: {all_merged_df.shape}')\n",
    "print(f'\\n{all_merged_df.head(n=3)}')"
   ]
  },
  {
   "cell_type": "code",
   "execution_count": null,
   "metadata": {},
   "outputs": [],
   "source": [
    "# Convert year, theme_id, and num_parts columns to integers\n",
    "\n",
    "all_merged_df['year'] = all_merged_df['year'].astype(pd.Int64Dtype())\n",
    "all_merged_df['theme_id'] = all_merged_df['theme_id'].astype(pd.Int64Dtype())\n",
    "all_merged_df['num_parts'] = all_merged_df['num_parts'].astype(pd.Int64Dtype())"
   ]
  },
  {
   "cell_type": "code",
   "execution_count": null,
   "metadata": {},
   "outputs": [],
   "source": [
    "# Make a new DataFrame with just the top 10 parts with highest quantity.\n",
    "top_ten_parts = all_merged_df['quantity'].nlargest(n=10, keep='first')\n",
    "top_ten_df = all_merged_df[all_merged_df['quantity'].isin(top_ten_parts)]\n",
    "top_ten_df.reset_index(drop=True, inplace=True)\n",
    "top_ten_df"
   ]
  },
  {
   "cell_type": "code",
   "execution_count": null,
   "metadata": {},
   "outputs": [],
   "source": [
    "# Write a .csv of the parts on the local drive for use in Tableau visualization\n",
    "file_path = dc.csv_path('top_ten_parts.csv')\n",
    "top_ten_df.to_csv(file_path)"
   ]
  }
 ],
 "metadata": {
  "kernelspec": {
   "display_name": "Python 3 (ipykernel)",
   "language": "python",
   "name": "python3"
  },
  "language_info": {
   "codemirror_mode": {
    "name": "ipython",
    "version": 3
   },
   "file_extension": ".py",
   "mimetype": "text/x-python",
   "name": "python",
   "nbconvert_exporter": "python",
   "pygments_lexer": "ipython3",
   "version": "3.10.1"
  },
  "vscode": {
   "interpreter": {
    "hash": "e880f88284eb8328b652a29ec39a1056e20ed77630b5065dc39b8a8d12f605eb"
   }
  }
 },
 "nbformat": 4,
 "nbformat_minor": 2
}
