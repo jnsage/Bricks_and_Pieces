{
 "cells": [
  {
   "cell_type": "code",
   "execution_count": 1,
   "metadata": {},
   "outputs": [],
   "source": [
    "import pandas as pd \n",
    "import requests\n",
    "from PythonScripts.keys import KEY_ONE\n",
    "import PythonScripts.data_clean as dc\n",
    "import PythonScripts.JPGFun as jf\n",
    "from pathlib import Path"
   ]
  },
  {
   "cell_type": "code",
   "execution_count": 2,
   "metadata": {},
   "outputs": [
    {
     "name": "stdout",
     "output_type": "stream",
     "text": [
      "inv_df shape: (33221, 2)\n",
      "   id set_num\n",
      "0   1  7922-1\n",
      "1   3  3931-1\n",
      "2   4  6942-1\n",
      "\n",
      "inv_parts_df shape: (1041633, 4)\n",
      "   inventory_id        part_num  color_id  quantity\n",
      "0             1        48379c01        72         1\n",
      "1             1           48395         7         1\n",
      "2             1  stickerupn0077      9999         1\n",
      "\n",
      "set_df shape: (19561, 5)\n",
      "  set_num                        name  year  theme_id  num_parts\n",
      "0   001-1                       Gears  1965         1         43\n",
      "1  0011-2           Town Mini-Figures  1979        67         12\n",
      "2  0011-3  Castle 2 for 1 Bonus Offer  1987       199          0\n",
      "\n",
      "parts_df shape: (47792, 2)\n",
      "  part_num                                        name\n",
      "0   003381                 Sticker Sheet for Set 663-1\n",
      "1   003383         Sticker Sheet for Sets 618-1, 628-2\n",
      "2   003402  Sticker Sheet for Sets 310-3, 311-1, 312-3\n"
     ]
    }
   ],
   "source": [
    "# Read CSVs off local drive and convert them each to a DataFrame\n",
    "\n",
    "inv_path = dc.csv_path('inventories.csv')\n",
    "inv_df = pd.read_csv(inv_path, usecols=['id','set_num'])\n",
    "\n",
    "inv_parts_path = dc.csv_path('inventory_parts.csv')\n",
    "inv_parts_df = pd.read_csv(inv_parts_path, usecols=['inventory_id', 'part_num', 'color_id', 'quantity'])\n",
    "\n",
    "sets_path = dc.csv_path('sets.csv')\n",
    "set_df = pd.read_csv(sets_path, usecols=['set_num', 'name', 'year', 'theme_id', 'num_parts'])\n",
    "\n",
    "parts_path = dc.csv_path('parts.csv')\n",
    "parts_df = pd.read_csv(parts_path, usecols=['part_num', 'name'])\n",
    "\n",
    "print(f'inv_df shape: {inv_df.shape}')\n",
    "print(inv_df.head(n=3))\n",
    "print(f'\\ninv_parts_df shape: {inv_parts_df.shape}')\n",
    "print(inv_parts_df.head(n=3))\n",
    "print(f'\\nset_df shape: {set_df.shape}')\n",
    "print(set_df.head(n=3))\n",
    "print(f'\\nparts_df shape: {parts_df.shape}')\n",
    "print(parts_df.head(n=3))\n"
   ]
  },
  {
   "cell_type": "code",
   "execution_count": 3,
   "metadata": {},
   "outputs": [
    {
     "name": "stdout",
     "output_type": "stream",
     "text": [
      "Original column labels:\n",
      "inv_df: Index(['id', 'set_num'], dtype='object')\n",
      "parts_df: Index(['part_num', 'name'], dtype='object')\n",
      "\n",
      "Renamed column labels:\n",
      "inv_df: Index(['inventory_id', 'set_num'], dtype='object')\n",
      "parts_df: Index(['part_num', 'part_name'], dtype='object')\n"
     ]
    }
   ],
   "source": [
    "# Rename columns in inv_df and parts_df for easier joining\n",
    "print('Original column labels:')\n",
    "print(f'inv_df: {inv_df.columns}')\n",
    "print(f'parts_df: {parts_df.columns}')\n",
    "\n",
    "inv_rename_dict = {'id' : 'inventory_id',\n",
    "                   'set_num' : 'set_num'}\n",
    "inv_df.rename(columns=inv_rename_dict, inplace=True)\n",
    "\n",
    "parts_rename_dict = {'part_num' : 'part_num',\n",
    "                     'name' : 'part_name'}\n",
    "parts_df.rename(columns=parts_rename_dict, inplace=True)\n",
    "\n",
    "print('\\nRenamed column labels:')\n",
    "print(f'inv_df: {inv_df.columns}')\n",
    "print(f'parts_df: {parts_df.columns}')"
   ]
  },
  {
   "cell_type": "code",
   "execution_count": 4,
   "metadata": {},
   "outputs": [
    {
     "name": "stdout",
     "output_type": "stream",
     "text": [
      "Original inv_df shape: (33221, 2)\n",
      "Post-first merge shape: (1041633, 5)\n",
      "Post-second merge shape: (1041633, 9)\n",
      "current all_merged_df shape: (1041633, 10)\n"
     ]
    }
   ],
   "source": [
    "# Merge all DataFrames into one larger DataFrame with all data points\n",
    "print(f'Original inv_df shape: {inv_df.shape}')\n",
    "\n",
    "all_merged_df = inv_df.merge(inv_parts_df, how='inner', left_on='inventory_id', right_on='inventory_id')\n",
    "print(f'Post-first merge shape: {all_merged_df.shape}')\n",
    "      \n",
    "all_merged_df = all_merged_df.merge(set_df, how='left', left_on='set_num', right_on='set_num')\n",
    "print(f'Post-second merge shape: {all_merged_df.shape}')\n",
    "\n",
    "all_merged_df = all_merged_df.merge(parts_df, how='inner', left_on='part_num', right_on='part_num')\n",
    "print(f'current all_merged_df shape: {all_merged_df.shape}')\n",
    "\n"
   ]
  },
  {
   "cell_type": "code",
   "execution_count": 5,
   "metadata": {},
   "outputs": [
    {
     "name": "stdout",
     "output_type": "stream",
     "text": [
      "Star Wars Theme IDs: [18, 158, 171, 209, 261]\n",
      "Unique values in theme_id column in DataFrame: [158. 171. 209. 261.  18.]\n"
     ]
    }
   ],
   "source": [
    "# Remove all non-Star Wars themes from the Dataframe\n",
    "\n",
    "sw_theme_ids = [18, 158, 171, 209, 261]\n",
    "print(f'Star Wars Theme IDs: {sw_theme_ids}')\n",
    "all_merged_df = all_merged_df[all_merged_df['theme_id'].isin(sw_theme_ids)]\n",
    "unique_themes = all_merged_df['theme_id'].unique()\n",
    "\n",
    "print(f'Unique values in theme_id column in DataFrame: {unique_themes}')\n"
   ]
  },
  {
   "cell_type": "code",
   "execution_count": 6,
   "metadata": {},
   "outputs": [
    {
     "name": "stdout",
     "output_type": "stream",
     "text": [
      "Set with highest count: 75192-1\n"
     ]
    }
   ],
   "source": [
    "# Find the set number with the most pieces\n",
    "\n",
    "piece_count = all_merged_df.groupby(['set_num'])['quantity'].sum()\n",
    "max_count = piece_count.idxmax()\n",
    "print(f'Set with highest count: {max_count}')\n"
   ]
  },
  {
   "cell_type": "code",
   "execution_count": 7,
   "metadata": {},
   "outputs": [
    {
     "name": "stdout",
     "output_type": "stream",
     "text": [
      "Current all_merged_df shape: (86526, 10)\n",
      "Final all_merged_df shape: (730, 10)\n",
      "\n",
      "      inventory_id  set_num part_num  color_id  quantity               name  \\\n",
      "5970         19670  75192-1     3003         0         3  Millennium Falcon   \n",
      "5971         19670  75192-1     3003        73         1  Millennium Falcon   \n",
      "5972         19670  75192-1     3003        71         4  Millennium Falcon   \n",
      "\n",
      "        year  theme_id  num_parts    part_name  \n",
      "5970  2017.0     171.0     7541.0  Brick 2 x 2  \n",
      "5971  2017.0     171.0     7541.0  Brick 2 x 2  \n",
      "5972  2017.0     171.0     7541.0  Brick 2 x 2  \n"
     ]
    }
   ],
   "source": [
    "# Drop all rows from the large DataFrame except the set with most pieces\n",
    "\n",
    "print(f'Current all_merged_df shape: {all_merged_df.shape}')\n",
    "\n",
    "mask = all_merged_df[all_merged_df['set_num'] != max_count].index\n",
    "all_merged_df.drop(mask, inplace=True)\n",
    "\n",
    "print(f'Final all_merged_df shape: {all_merged_df.shape}')\n",
    "print(f'\\n{all_merged_df.head(n=3)}')\n"
   ]
  },
  {
   "cell_type": "code",
   "execution_count": 8,
   "metadata": {},
   "outputs": [],
   "source": [
    "# Convert year, theme_id, and num_parts columns to integers\n",
    "\n",
    "all_merged_df['year'] = all_merged_df['year'].astype(pd.Int64Dtype())\n",
    "all_merged_df['theme_id'] = all_merged_df['theme_id'].astype(pd.Int64Dtype())\n",
    "all_merged_df['num_parts'] = all_merged_df['num_parts'].astype(pd.Int64Dtype())"
   ]
  },
  {
   "cell_type": "code",
   "execution_count": 9,
   "metadata": {},
   "outputs": [
    {
     "data": {
      "text/html": [
       "<div>\n",
       "<style scoped>\n",
       "    .dataframe tbody tr th:only-of-type {\n",
       "        vertical-align: middle;\n",
       "    }\n",
       "\n",
       "    .dataframe tbody tr th {\n",
       "        vertical-align: top;\n",
       "    }\n",
       "\n",
       "    .dataframe thead th {\n",
       "        text-align: right;\n",
       "    }\n",
       "</style>\n",
       "<table border=\"1\" class=\"dataframe\">\n",
       "  <thead>\n",
       "    <tr style=\"text-align: right;\">\n",
       "      <th></th>\n",
       "      <th>inventory_id</th>\n",
       "      <th>set_num</th>\n",
       "      <th>part_num</th>\n",
       "      <th>color_id</th>\n",
       "      <th>quantity</th>\n",
       "      <th>name</th>\n",
       "      <th>year</th>\n",
       "      <th>theme_id</th>\n",
       "      <th>num_parts</th>\n",
       "      <th>part_name</th>\n",
       "    </tr>\n",
       "  </thead>\n",
       "  <tbody>\n",
       "    <tr>\n",
       "      <th>0</th>\n",
       "      <td>19670</td>\n",
       "      <td>75192-1</td>\n",
       "      <td>3023</td>\n",
       "      <td>71</td>\n",
       "      <td>73</td>\n",
       "      <td>Millennium Falcon</td>\n",
       "      <td>2017</td>\n",
       "      <td>171</td>\n",
       "      <td>7541</td>\n",
       "      <td>Plate 1 x 2</td>\n",
       "    </tr>\n",
       "    <tr>\n",
       "      <th>1</th>\n",
       "      <td>19670</td>\n",
       "      <td>75192-1</td>\n",
       "      <td>3023</td>\n",
       "      <td>28</td>\n",
       "      <td>243</td>\n",
       "      <td>Millennium Falcon</td>\n",
       "      <td>2017</td>\n",
       "      <td>171</td>\n",
       "      <td>7541</td>\n",
       "      <td>Plate 1 x 2</td>\n",
       "    </tr>\n",
       "    <tr>\n",
       "      <th>2</th>\n",
       "      <td>19670</td>\n",
       "      <td>75192-1</td>\n",
       "      <td>3021</td>\n",
       "      <td>71</td>\n",
       "      <td>105</td>\n",
       "      <td>Millennium Falcon</td>\n",
       "      <td>2017</td>\n",
       "      <td>171</td>\n",
       "      <td>7541</td>\n",
       "      <td>Plate 2 x 3</td>\n",
       "    </tr>\n",
       "    <tr>\n",
       "      <th>3</th>\n",
       "      <td>19670</td>\n",
       "      <td>75192-1</td>\n",
       "      <td>15573</td>\n",
       "      <td>72</td>\n",
       "      <td>75</td>\n",
       "      <td>Millennium Falcon</td>\n",
       "      <td>2017</td>\n",
       "      <td>171</td>\n",
       "      <td>7541</td>\n",
       "      <td>Plate Special 1 x 2 with 1 Stud with Groove an...</td>\n",
       "    </tr>\n",
       "    <tr>\n",
       "      <th>4</th>\n",
       "      <td>19670</td>\n",
       "      <td>75192-1</td>\n",
       "      <td>2412b</td>\n",
       "      <td>0</td>\n",
       "      <td>102</td>\n",
       "      <td>Millennium Falcon</td>\n",
       "      <td>2017</td>\n",
       "      <td>171</td>\n",
       "      <td>7541</td>\n",
       "      <td>Tile Special 1 x 2 Grille with Bottom Groove</td>\n",
       "    </tr>\n",
       "    <tr>\n",
       "      <th>5</th>\n",
       "      <td>19670</td>\n",
       "      <td>75192-1</td>\n",
       "      <td>3710</td>\n",
       "      <td>72</td>\n",
       "      <td>72</td>\n",
       "      <td>Millennium Falcon</td>\n",
       "      <td>2017</td>\n",
       "      <td>171</td>\n",
       "      <td>7541</td>\n",
       "      <td>Plate 1 x 4</td>\n",
       "    </tr>\n",
       "    <tr>\n",
       "      <th>6</th>\n",
       "      <td>19670</td>\n",
       "      <td>75192-1</td>\n",
       "      <td>2780</td>\n",
       "      <td>0</td>\n",
       "      <td>269</td>\n",
       "      <td>Millennium Falcon</td>\n",
       "      <td>2017</td>\n",
       "      <td>171</td>\n",
       "      <td>7541</td>\n",
       "      <td>Technic Pin with Friction Ridges Lengthwise an...</td>\n",
       "    </tr>\n",
       "    <tr>\n",
       "      <th>7</th>\n",
       "      <td>19670</td>\n",
       "      <td>75192-1</td>\n",
       "      <td>32054</td>\n",
       "      <td>71</td>\n",
       "      <td>75</td>\n",
       "      <td>Millennium Falcon</td>\n",
       "      <td>2017</td>\n",
       "      <td>171</td>\n",
       "      <td>7541</td>\n",
       "      <td>Technic Pin Long with Friction Ridges Lengthwi...</td>\n",
       "    </tr>\n",
       "    <tr>\n",
       "      <th>8</th>\n",
       "      <td>19670</td>\n",
       "      <td>75192-1</td>\n",
       "      <td>6558</td>\n",
       "      <td>1</td>\n",
       "      <td>139</td>\n",
       "      <td>Millennium Falcon</td>\n",
       "      <td>2017</td>\n",
       "      <td>171</td>\n",
       "      <td>7541</td>\n",
       "      <td>Technic Pin Long with Friction Ridges Lengthwi...</td>\n",
       "    </tr>\n",
       "    <tr>\n",
       "      <th>9</th>\n",
       "      <td>19670</td>\n",
       "      <td>75192-1</td>\n",
       "      <td>15712</td>\n",
       "      <td>72</td>\n",
       "      <td>139</td>\n",
       "      <td>Millennium Falcon</td>\n",
       "      <td>2017</td>\n",
       "      <td>171</td>\n",
       "      <td>7541</td>\n",
       "      <td>Tile Special 1 x 1 with Clip with Rounded Edges</td>\n",
       "    </tr>\n",
       "  </tbody>\n",
       "</table>\n",
       "</div>"
      ],
      "text/plain": [
       "   inventory_id  set_num part_num  color_id  quantity               name  \\\n",
       "0         19670  75192-1     3023        71        73  Millennium Falcon   \n",
       "1         19670  75192-1     3023        28       243  Millennium Falcon   \n",
       "2         19670  75192-1     3021        71       105  Millennium Falcon   \n",
       "3         19670  75192-1    15573        72        75  Millennium Falcon   \n",
       "4         19670  75192-1    2412b         0       102  Millennium Falcon   \n",
       "5         19670  75192-1     3710        72        72  Millennium Falcon   \n",
       "6         19670  75192-1     2780         0       269  Millennium Falcon   \n",
       "7         19670  75192-1    32054        71        75  Millennium Falcon   \n",
       "8         19670  75192-1     6558         1       139  Millennium Falcon   \n",
       "9         19670  75192-1    15712        72       139  Millennium Falcon   \n",
       "\n",
       "   year  theme_id  num_parts  \\\n",
       "0  2017       171       7541   \n",
       "1  2017       171       7541   \n",
       "2  2017       171       7541   \n",
       "3  2017       171       7541   \n",
       "4  2017       171       7541   \n",
       "5  2017       171       7541   \n",
       "6  2017       171       7541   \n",
       "7  2017       171       7541   \n",
       "8  2017       171       7541   \n",
       "9  2017       171       7541   \n",
       "\n",
       "                                           part_name  \n",
       "0                                        Plate 1 x 2  \n",
       "1                                        Plate 1 x 2  \n",
       "2                                        Plate 2 x 3  \n",
       "3  Plate Special 1 x 2 with 1 Stud with Groove an...  \n",
       "4       Tile Special 1 x 2 Grille with Bottom Groove  \n",
       "5                                        Plate 1 x 4  \n",
       "6  Technic Pin with Friction Ridges Lengthwise an...  \n",
       "7  Technic Pin Long with Friction Ridges Lengthwi...  \n",
       "8  Technic Pin Long with Friction Ridges Lengthwi...  \n",
       "9    Tile Special 1 x 1 with Clip with Rounded Edges  "
      ]
     },
     "execution_count": 9,
     "metadata": {},
     "output_type": "execute_result"
    }
   ],
   "source": [
    "# Make a new DataFrame with just the top 10 parts with highest quantity.\n",
    "top_ten_parts = all_merged_df['quantity'].nlargest(n=10, keep='first')\n",
    "top_ten_df = all_merged_df[all_merged_df['quantity'].isin(top_ten_parts)]\n",
    "top_ten_df.reset_index(drop=True, inplace=True)\n",
    "top_ten_df\n",
    "\n"
   ]
  },
  {
   "cell_type": "code",
   "execution_count": 10,
   "metadata": {},
   "outputs": [],
   "source": [
    "# Write a .csv of the parts on the local drive for use in Tableau visualization\n",
    "file_path = dc.csv_path('top_ten_parts.csv')\n",
    "top_ten_df.to_csv(file_path)"
   ]
  },
  {
   "cell_type": "code",
   "execution_count": 11,
   "metadata": {},
   "outputs": [],
   "source": [
    "# Data Manipulation is now complete. Additional code below for image processing for custom images for use in Tableau\n",
    "# Build list of the image URLs for the top ten most common parts, request those images,\n",
    "# and save them to a .csv. This is not used in the data manipulation.\n",
    "\n",
    "#initialize new lists for color id and part number of top 10 piece quantities. \n",
    "#API call to find part specs for each part/color combination and save the image URL to a list\n",
    "\n",
    "# add the URLs to the top ten Dataframe\n",
    "part_num_list =[]\n",
    "part_color_list = []\n",
    "\n",
    "for item in top_ten_df['part_num']:\n",
    "    part_num_list.append(item)\n",
    "for item in top_ten_df['color_id']:\n",
    "    part_color_list.append(str(item))\n",
    "    \n",
    "# Zip to tuple to lock in for API calls\n",
    "num_color_zip = zip(part_num_list,part_color_list)\n",
    "\n",
    "\n",
    "    "
   ]
  },
  {
   "cell_type": "code",
   "execution_count": 12,
   "metadata": {},
   "outputs": [],
   "source": [
    "# API call to find part specs for each part/color combination and save the image URL to a list\n",
    "url_list = []\n",
    "for num, color in num_color_zip:\n",
    "    response = requests.get(f'https://rebrickable.com/api/v3/lego/parts/{num}/colors/{color}?key={KEY_ONE}')\n",
    "    data = response.json()\n",
    "    url_list.append(str(data['part_img_url']))"
   ]
  },
  {
   "cell_type": "code",
   "execution_count": 13,
   "metadata": {},
   "outputs": [],
   "source": [
    "# Create a Dataframe of the URLs and merge them into the top_ten_parts DataFrame in case it's needed for future features\n",
    "url_df = pd.DataFrame({'part_num' : part_num_list,\n",
    "                       'URL' : url_list})\n",
    "\n",
    "url_df['part_num'] = url_df['part_num'].astype(str)\n",
    "url_df['URL'] = url_df['URL'].astype(str)\n",
    "\n",
    "top_ten_df = top_ten_df.merge(url_df, how='left', left_on='part_num', right_on='part_num')"
   ]
  },
  {
   "cell_type": "code",
   "execution_count": 14,
   "metadata": {},
   "outputs": [],
   "source": [
    "# Write the URL DataFrame to a .csv\n",
    "file_path = dc.csv_path('url_list.csv')\n",
    "top_ten_df.to_csv(file_path)"
   ]
  },
  {
   "cell_type": "code",
   "execution_count": 15,
   "metadata": {},
   "outputs": [],
   "source": [
    "# Download each image file and save to JPG folder\n",
    "path = jf.jpg_path()\n",
    "jf.write_image(url_list, path)\n",
    "jf.resize_files(path)"
   ]
  },
  {
   "cell_type": "code",
   "execution_count": null,
   "metadata": {},
   "outputs": [],
   "source": [
    "# Resize files to Tableau max size\n",
    "jf.resize_files(path)"
   ]
  }
 ],
 "metadata": {
  "kernelspec": {
   "display_name": "Python 3 (ipykernel)",
   "language": "python",
   "name": "python3"
  },
  "language_info": {
   "codemirror_mode": {
    "name": "ipython",
    "version": 3
   },
   "file_extension": ".py",
   "mimetype": "text/x-python",
   "name": "python",
   "nbconvert_exporter": "python",
   "pygments_lexer": "ipython3",
   "version": "3.10.1"
  },
  "vscode": {
   "interpreter": {
    "hash": "e880f88284eb8328b652a29ec39a1056e20ed77630b5065dc39b8a8d12f605eb"
   }
  }
 },
 "nbformat": 4,
 "nbformat_minor": 2
}
