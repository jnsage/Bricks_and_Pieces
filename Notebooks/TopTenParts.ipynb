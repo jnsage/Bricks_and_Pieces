{
 "cells": [
  {
   "cell_type": "code",
   "execution_count": 1,
   "metadata": {},
   "outputs": [],
   "source": [
    "import sys\n",
    "import os\n",
    "sys.path.insert(0, './PythonScripts')\n",
    "import pandas as pd \n",
    "import requests\n",
    "from PythonScripts.keys import KEY_ONE\n",
    "from PIL import Image\n",
    "import os\n",
    "import PythonScripts.resize\n",
    "\n",
    "# import theme df, join merged_df_three with theme to get star wars theme. \n",
    "#add code to not include first columns\n",
    "\n",
    "inv_df = pd.read_csv('../CSVs/inventories.csv', usecols=['id','set_num'])\n",
    "inv_parts_df = pd.read_csv('../CSVs/inventory_parts.csv', usecols=['inventory_id', 'part_num', 'color_id', 'quantity'])\n",
    "set_df = pd.read_csv('../CSVs/sets.csv', usecols=['set_num', 'name', 'year', 'theme_id', 'num_parts'])\n",
    "parts_df = pd.read_csv('../CSVs/parts.csv', usecols=['part_num', 'name'])\n",
    "\n",
    "\n"
   ]
  },
  {
   "cell_type": "code",
   "execution_count": 2,
   "metadata": {},
   "outputs": [],
   "source": [
    "# Rename columns for easier joining\n",
    "inv_rename_dict = {'id' : 'inventory_id',\n",
    "                   'set_num' : 'set_num'}\n",
    "inv_df.rename(columns=inv_rename_dict, inplace=True)\n",
    "\n",
    "parts_rename_dict = {'part_num' : 'part_num',\n",
    "                     'name' : 'part_name'}\n",
    "parts_df.rename(columns=parts_rename_dict, inplace=True)"
   ]
  },
  {
   "cell_type": "code",
   "execution_count": 3,
   "metadata": {},
   "outputs": [
    {
     "data": {
      "text/html": [
       "<div>\n",
       "<style scoped>\n",
       "    .dataframe tbody tr th:only-of-type {\n",
       "        vertical-align: middle;\n",
       "    }\n",
       "\n",
       "    .dataframe tbody tr th {\n",
       "        vertical-align: top;\n",
       "    }\n",
       "\n",
       "    .dataframe thead th {\n",
       "        text-align: right;\n",
       "    }\n",
       "</style>\n",
       "<table border=\"1\" class=\"dataframe\">\n",
       "  <thead>\n",
       "    <tr style=\"text-align: right;\">\n",
       "      <th></th>\n",
       "      <th>inventory_id</th>\n",
       "      <th>set_num</th>\n",
       "      <th>part_num</th>\n",
       "      <th>color_id</th>\n",
       "      <th>quantity</th>\n",
       "      <th>name</th>\n",
       "      <th>year</th>\n",
       "      <th>theme_id</th>\n",
       "      <th>num_parts</th>\n",
       "      <th>part_name</th>\n",
       "    </tr>\n",
       "  </thead>\n",
       "  <tbody>\n",
       "    <tr>\n",
       "      <th>0</th>\n",
       "      <td>1</td>\n",
       "      <td>7922-1</td>\n",
       "      <td>48379c01</td>\n",
       "      <td>72</td>\n",
       "      <td>1</td>\n",
       "      <td>McDonald's Sports Set Number 6 - Orange Vest S...</td>\n",
       "      <td>2004</td>\n",
       "      <td>460</td>\n",
       "      <td>5</td>\n",
       "      <td>Large Figure Torso and Legs, Promo Figure Base...</td>\n",
       "    </tr>\n",
       "    <tr>\n",
       "      <th>1</th>\n",
       "      <td>738</td>\n",
       "      <td>7920-1</td>\n",
       "      <td>48379c01</td>\n",
       "      <td>0</td>\n",
       "      <td>1</td>\n",
       "      <td>McDonald's Sports Set Number 5 - Blue Hockey P...</td>\n",
       "      <td>2004</td>\n",
       "      <td>461</td>\n",
       "      <td>6</td>\n",
       "      <td>Large Figure Torso and Legs, Promo Figure Base...</td>\n",
       "    </tr>\n",
       "    <tr>\n",
       "      <th>2</th>\n",
       "      <td>1733</td>\n",
       "      <td>7919-1</td>\n",
       "      <td>48379c01</td>\n",
       "      <td>1</td>\n",
       "      <td>1</td>\n",
       "      <td>McDonald's Sports Set Number 4 - White Hockey ...</td>\n",
       "      <td>2004</td>\n",
       "      <td>461</td>\n",
       "      <td>5</td>\n",
       "      <td>Large Figure Torso and Legs, Promo Figure Base...</td>\n",
       "    </tr>\n",
       "    <tr>\n",
       "      <th>3</th>\n",
       "      <td>2304</td>\n",
       "      <td>7923-1</td>\n",
       "      <td>48379c01</td>\n",
       "      <td>1</td>\n",
       "      <td>1</td>\n",
       "      <td>McDonald's Sports Set Number 1 - White Soccer ...</td>\n",
       "      <td>2004</td>\n",
       "      <td>462</td>\n",
       "      <td>3</td>\n",
       "      <td>Large Figure Torso and Legs, Promo Figure Base...</td>\n",
       "    </tr>\n",
       "    <tr>\n",
       "      <th>4</th>\n",
       "      <td>3157</td>\n",
       "      <td>7918-1</td>\n",
       "      <td>48379c01</td>\n",
       "      <td>272</td>\n",
       "      <td>1</td>\n",
       "      <td>McDonald's Sports Set Number 8 - Green Basketb...</td>\n",
       "      <td>2004</td>\n",
       "      <td>459</td>\n",
       "      <td>5</td>\n",
       "      <td>Large Figure Torso and Legs, Promo Figure Base...</td>\n",
       "    </tr>\n",
       "  </tbody>\n",
       "</table>\n",
       "</div>"
      ],
      "text/plain": [
       "   inventory_id set_num  part_num  color_id  quantity  \\\n",
       "0             1  7922-1  48379c01        72         1   \n",
       "1           738  7920-1  48379c01         0         1   \n",
       "2          1733  7919-1  48379c01         1         1   \n",
       "3          2304  7923-1  48379c01         1         1   \n",
       "4          3157  7918-1  48379c01       272         1   \n",
       "\n",
       "                                                name  year  theme_id  \\\n",
       "0  McDonald's Sports Set Number 6 - Orange Vest S...  2004       460   \n",
       "1  McDonald's Sports Set Number 5 - Blue Hockey P...  2004       461   \n",
       "2  McDonald's Sports Set Number 4 - White Hockey ...  2004       461   \n",
       "3  McDonald's Sports Set Number 1 - White Soccer ...  2004       462   \n",
       "4  McDonald's Sports Set Number 8 - Green Basketb...  2004       459   \n",
       "\n",
       "   num_parts                                          part_name  \n",
       "0          5  Large Figure Torso and Legs, Promo Figure Base...  \n",
       "1          6  Large Figure Torso and Legs, Promo Figure Base...  \n",
       "2          5  Large Figure Torso and Legs, Promo Figure Base...  \n",
       "3          3  Large Figure Torso and Legs, Promo Figure Base...  \n",
       "4          5  Large Figure Torso and Legs, Promo Figure Base...  "
      ]
     },
     "execution_count": 3,
     "metadata": {},
     "output_type": "execute_result"
    }
   ],
   "source": [
    "# Merge all Dataframes into one larger dataframe with all data points\n",
    "all_merged_df = inv_df.merge(inv_parts_df, how='inner', left_on='inventory_id', right_on='inventory_id')\n",
    "all_merged_df = all_merged_df.merge(set_df, how='inner', left_on='set_num', right_on='set_num')\n",
    "all_merged_df = all_merged_df.merge(parts_df, how='inner', left_on='part_num', right_on='part_num')\n",
    "all_merged_df.head()\n",
    "\n"
   ]
  },
  {
   "cell_type": "code",
   "execution_count": 4,
   "metadata": {},
   "outputs": [
    {
     "name": "stdout",
     "output_type": "stream",
     "text": [
      "(984408, 10)\n"
     ]
    },
    {
     "data": {
      "text/plain": [
       "(86526, 10)"
      ]
     },
     "execution_count": 4,
     "metadata": {},
     "output_type": "execute_result"
    }
   ],
   "source": [
    "# Remove all non-Star Wars themes from the Dataframe\n",
    "print(all_merged_df.shape)\n",
    "\n",
    "sw_theme_ids = [18, 158, 171, 209, 261]\n",
    "all_merged_df = all_merged_df[all_merged_df['theme_id'].isin(sw_theme_ids)]\n",
    "\n",
    "all_merged_df.shape\n"
   ]
  },
  {
   "cell_type": "code",
   "execution_count": 5,
   "metadata": {},
   "outputs": [
    {
     "name": "stdout",
     "output_type": "stream",
     "text": [
      "75192-1\n"
     ]
    }
   ],
   "source": [
    "# find set number with the most pieces\n",
    "piece_count = all_merged_df.groupby(['set_num'])['quantity'].sum()\n",
    "\n",
    "max_count = piece_count.idxmax()\n",
    "print(max_count)\n",
    "\n"
   ]
  },
  {
   "cell_type": "code",
   "execution_count": 6,
   "metadata": {},
   "outputs": [],
   "source": [
    "# drop all rows but set with most pieces\n",
    "mask = all_merged_df[all_merged_df['set_num'] != max_count].index\n",
    "all_merged_df.drop(mask, inplace=True)\n"
   ]
  },
  {
   "cell_type": "code",
   "execution_count": 7,
   "metadata": {},
   "outputs": [],
   "source": [
    "# Make a new df with just top 10 parts with highest quantity. Save as CSV to use in Tableau dashboard \n",
    "top_ten_parts = all_merged_df['quantity'].nlargest(n=10, keep='first')\n",
    "top_ten_df = all_merged_df[all_merged_df['quantity'].isin(top_ten_parts)]\n",
    "top_ten_df.reset_index(drop=True, inplace=True)\n",
    "top_ten_df.to_csv('../CSVs/top_ten_parts.csv')\n"
   ]
  },
  {
   "cell_type": "code",
   "execution_count": 8,
   "metadata": {},
   "outputs": [],
   "source": [
    "# initialize new lists for color id and part number of top 10 piece quantities. Zip to tuple to lock in for API calls\n",
    "# API call to find part specs for each part/color combination and save the image URL to a list\n",
    "# add the URLs to the top ten Dataframe\n",
    "part_num_list =[]\n",
    "part_color_list = []\n",
    "\n",
    "for item in top_ten_df['part_num']:\n",
    "    part_num_list.append(item)\n",
    "for item in top_ten_df['color_id']:\n",
    "    part_color_list.append(str(item))\n",
    "num_color_zip = zip(part_num_list,part_color_list)\n",
    "\n",
    "url_list = []\n",
    "for num, color in num_color_zip:\n",
    "    response = requests.get(f'https://rebrickable.com/api/v3/lego/parts/{num}/colors/{color}?key={KEY_ONE}')\n",
    "    data = response.json()\n",
    "    url_list.append(str(data['part_img_url']))\n",
    "\n",
    "url_df = pd.DataFrame({'part_num' : part_num_list,\n",
    "                       'URL' : url_list})\n",
    "\n",
    "url_df['part_num'] = url_df['part_num'].astype(str)\n",
    "url_df['URL'] = url_df['URL'].astype(str)\n",
    "\n",
    "top_ten_df = top_ten_df.merge(url_df, how='left', left_on='part_num', right_on='part_num')\n",
    "\n",
    "top_ten_df.to_csv('../CSVs/top_ten_parts.csv')\n",
    "\n",
    "    "
   ]
  },
  {
   "cell_type": "code",
   "execution_count": 9,
   "metadata": {},
   "outputs": [],
   "source": [
    "# # Save images and resize for Tableau\n",
    "# PythonScripts.resize.write_image(url_list)\n",
    "# PythonScripts.resize.resize_files('../JPGs/')\n"
   ]
  }
 ],
 "metadata": {
  "kernelspec": {
   "display_name": "Python 3.10.1 ('LegoProject': venv)",
   "language": "python",
   "name": "python3"
  },
  "language_info": {
   "codemirror_mode": {
    "name": "ipython",
    "version": 3
   },
   "file_extension": ".py",
   "mimetype": "text/x-python",
   "name": "python",
   "nbconvert_exporter": "python",
   "pygments_lexer": "ipython3",
   "version": "3.10.1"
  },
  "orig_nbformat": 4,
  "vscode": {
   "interpreter": {
    "hash": "e880f88284eb8328b652a29ec39a1056e20ed77630b5065dc39b8a8d12f605eb"
   }
  }
 },
 "nbformat": 4,
 "nbformat_minor": 2
}
