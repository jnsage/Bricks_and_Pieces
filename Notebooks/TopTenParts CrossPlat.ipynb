{
 "cells": [
  {
   "cell_type": "code",
   "execution_count": 1,
   "metadata": {},
   "outputs": [],
   "source": [
    "import pandas as pd \n",
    "import requests\n",
    "from PythonScripts.keys import KEY_ONE\n",
    "from PIL import Image\n",
    "import os\n",
    "import PythonScripts.resize as rs\n",
    "import PythonScripts.data_clean as dc\n",
    "from pathlib import Path\n",
    "# import theme df, join merged_df_three with theme to get star wars theme. \n",
    "#add code to not include first columns\n",
    "\n",
    "# Windows specific read\n",
    "# inv_df = pd.read_csv('../CSVs/inventories.csv', usecols=['id','set_num'])\n",
    "# inv_parts_df = pd.read_csv('../CSVs/inventory_parts.csv', usecols=['inventory_id', 'part_num', 'color_id', 'quantity'])\n",
    "# # set_df = pd.read_csv('../CSVs/sets.csv', usecols=['set_num', 'name', 'year', 'theme_id', 'num_parts'])\n",
    "# parts_df = pd.read_csv('../CSVs/parts.csv', usecols=['part_num', 'name'])\n",
    "\n",
    "# # print(inv_parts_df.shape)\n",
    "# # print(inv_df.shape)\n",
    "# # print(set_df.shape)\n",
    "# print(parts_df.shape)\n",
    "\n"
   ]
  },
  {
   "cell_type": "code",
   "execution_count": 2,
   "metadata": {},
   "outputs": [],
   "source": [
    "# Function to generate path for reading the csvs from CSV folder on multi-platform\n",
    "    \n",
    "\n",
    "sets_path = dc.generate_csv_path('sets.csv')\n",
    "set_df = pd.read_csv(sets_path, usecols=['set_num', 'name', 'year', 'theme_id', 'num_parts'])\n",
    "\n",
    "inv_parts_path = dc.generate_csv_path('inventory_parts.csv')\n",
    "inv_parts_df = pd.read_csv(inv_parts_path, usecols=['inventory_id', 'part_num', 'color_id', 'quantity'])\n",
    "\n",
    "inv_path = dc.generate_csv_path('inventories.csv')\n",
    "inv_df = pd.read_csv(inv_path, usecols=['id','set_num'])\n",
    "\n",
    "parts_path = dc.generate_csv_path('parts.csv')\n",
    "parts_df = pd.read_csv(parts_path, usecols=['part_num', 'name'])\n"
   ]
  },
  {
   "cell_type": "code",
   "execution_count": 3,
   "metadata": {},
   "outputs": [],
   "source": [
    "# Rename columns for easier joining\n",
    "inv_rename_dict = {'id' : 'inventory_id',\n",
    "                   'set_num' : 'set_num'}\n",
    "inv_df.rename(columns=inv_rename_dict, inplace=True)\n",
    "\n",
    "parts_rename_dict = {'part_num' : 'part_num',\n",
    "                     'name' : 'part_name'}\n",
    "parts_df.rename(columns=parts_rename_dict, inplace=True)"
   ]
  },
  {
   "cell_type": "code",
   "execution_count": 4,
   "metadata": {},
   "outputs": [
    {
     "name": "stdout",
     "output_type": "stream",
     "text": [
      "(33221, 2)\n",
      "(1041633, 5)\n",
      "(1041633, 9)\n",
      "(1041633, 9)\n"
     ]
    }
   ],
   "source": [
    "# Merge all Dataframes into one larger dataframe with all data points\n",
    "print(inv_df.shape)\n",
    "\n",
    "all_merged_df = inv_df.merge(inv_parts_df, how='inner', left_on='inventory_id', right_on='inventory_id')\n",
    "print(all_merged_df.shape)\n",
    "\n",
    "all_merged_df = all_merged_df.merge(set_df, how='left', left_on='set_num', right_on='set_num')\n",
    "print(all_merged_df.shape)\n",
    "\n",
    "merged_df = all_merged_df.merge(parts_df, how='left', left_on='part_num', right_on='part_num')\n",
    "print(all_merged_df.shape)\n"
   ]
  },
  {
   "cell_type": "code",
   "execution_count": 5,
   "metadata": {},
   "outputs": [
    {
     "name": "stdout",
     "output_type": "stream",
     "text": [
      "(1041633, 9)\n"
     ]
    },
    {
     "data": {
      "text/plain": [
       "(86526, 9)"
      ]
     },
     "execution_count": 5,
     "metadata": {},
     "output_type": "execute_result"
    }
   ],
   "source": [
    "# Remove all non-Star Wars themes from the Dataframe\n",
    "print(all_merged_df.shape)\n",
    "\n",
    "sw_theme_ids = [18, 158, 171, 209, 261]\n",
    "all_merged_df = all_merged_df[all_merged_df['theme_id'].isin(sw_theme_ids)]\n",
    "\n",
    "all_merged_df.shape\n"
   ]
  },
  {
   "cell_type": "code",
   "execution_count": 6,
   "metadata": {},
   "outputs": [
    {
     "name": "stdout",
     "output_type": "stream",
     "text": [
      "75192-1\n"
     ]
    }
   ],
   "source": [
    "# find set number with the most pieces\n",
    "piece_count = all_merged_df.groupby(['set_num'])['quantity'].sum()\n",
    "\n",
    "max_count = piece_count.idxmax()\n",
    "print(max_count)\n"
   ]
  },
  {
   "cell_type": "code",
   "execution_count": 7,
   "metadata": {},
   "outputs": [],
   "source": [
    "# drop all rows but set with most pieces\n",
    "mask = all_merged_df[all_merged_df['set_num'] != max_count].index\n",
    "all_merged_df.drop(mask, inplace=True)\n"
   ]
  },
  {
   "cell_type": "code",
   "execution_count": 8,
   "metadata": {},
   "outputs": [],
   "source": [
    "# Make a new df with just top 10 parts with highest quantity. Save as CSV to use in Tableau dashboard \n",
    "top_ten_parts = all_merged_df['quantity'].nlargest(n=10, keep='first')\n",
    "top_ten_df = all_merged_df[all_merged_df['quantity'].isin(top_ten_parts)]\n",
    "top_ten_df.reset_index(drop=True, inplace=True)\n",
    "\n"
   ]
  },
  {
   "cell_type": "code",
   "execution_count": 9,
   "metadata": {},
   "outputs": [],
   "source": [
    "# Write top_ten_df to csv on the local drive for use in Tableau\n",
    "file_path = dc.write_csv('top_ten_parts.csv')\n",
    "top_ten_df.to_csv(file_path)"
   ]
  },
  {
   "cell_type": "code",
   "execution_count": 10,
   "metadata": {},
   "outputs": [],
   "source": [
    "# initialize new lists for color id and part number of top 10 piece quantities. Zip to tuple to lock in for API calls\n",
    "# API call to find part specs for each part/color combination and save the image URL to a list\n",
    "# add the URLs to the top ten Dataframe\n",
    "part_num_list =[]\n",
    "part_color_list = []\n",
    "\n",
    "for item in top_ten_df['part_num']:\n",
    "    part_num_list.append(item)\n",
    "for item in top_ten_df['color_id']:\n",
    "    part_color_list.append(str(item))\n",
    "num_color_zip = zip(part_num_list,part_color_list)\n",
    "\n",
    "url_list = []\n",
    "for num, color in num_color_zip:\n",
    "    response = requests.get(f'https://rebrickable.com/api/v3/lego/parts/{num}/colors/{color}?key={KEY_ONE}')\n",
    "    data = response.json()\n",
    "    url_list.append(str(data['part_img_url']))\n",
    "\n",
    "url_df = pd.DataFrame({'part_num' : part_num_list,\n",
    "                       'URL' : url_list})\n",
    "\n",
    "url_df['part_num'] = url_df['part_num'].astype(str)\n",
    "url_df['URL'] = url_df['URL'].astype(str)\n",
    "\n",
    "top_ten_df = top_ten_df.merge(url_df, how='left', left_on='part_num', right_on='part_num')\n",
    "\n",
    "file_path = dc.write_csv('url_list.csv')\n",
    "top_ten_df.to_csv(file_path)\n",
    "    "
   ]
  },
  {
   "cell_type": "code",
   "execution_count": 11,
   "metadata": {},
   "outputs": [],
   "source": [
    "# Save images and resize for Tableau\n",
    "# rs.write_image(url_list)\n",
    "# rs.resize_files('../JPGs/')\n"
   ]
  }
 ],
 "metadata": {
  "kernelspec": {
   "display_name": "Python 3.10.1 ('LegoProject': venv)",
   "language": "python",
   "name": "python3"
  },
  "language_info": {
   "codemirror_mode": {
    "name": "ipython",
    "version": 3
   },
   "file_extension": ".py",
   "mimetype": "text/x-python",
   "name": "python",
   "nbconvert_exporter": "python",
   "pygments_lexer": "ipython3",
   "version": "3.10.1"
  },
  "orig_nbformat": 4,
  "vscode": {
   "interpreter": {
    "hash": "e880f88284eb8328b652a29ec39a1056e20ed77630b5065dc39b8a8d12f605eb"
   }
  }
 },
 "nbformat": 4,
 "nbformat_minor": 2
}
