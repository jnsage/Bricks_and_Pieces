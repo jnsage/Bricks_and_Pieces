{
 "cells": [
  {
   "cell_type": "code",
   "execution_count": 1,
   "metadata": {},
   "outputs": [],
   "source": [
    "import pandas as pd\n",
    "import requests\n",
    "from PythonScripts.keys import KEY_TWO\n",
    "import PythonScripts.data_clean as dc\n"
   ]
  },
  {
   "cell_type": "code",
   "execution_count": 2,
   "metadata": {},
   "outputs": [
    {
     "name": "stdout",
     "output_type": "stream",
     "text": [
      "Shape:  (153, 5)\n"
     ]
    },
    {
     "data": {
      "text/html": [
       "<div>\n",
       "<style scoped>\n",
       "    .dataframe tbody tr th:only-of-type {\n",
       "        vertical-align: middle;\n",
       "    }\n",
       "\n",
       "    .dataframe tbody tr th {\n",
       "        vertical-align: top;\n",
       "    }\n",
       "\n",
       "    .dataframe thead th {\n",
       "        text-align: right;\n",
       "    }\n",
       "</style>\n",
       "<table border=\"1\" class=\"dataframe\">\n",
       "  <thead>\n",
       "    <tr style=\"text-align: right;\">\n",
       "      <th></th>\n",
       "      <th>theme</th>\n",
       "      <th>setCount</th>\n",
       "      <th>subthemeCount</th>\n",
       "      <th>yearFrom</th>\n",
       "      <th>yearTo</th>\n",
       "    </tr>\n",
       "  </thead>\n",
       "  <tbody>\n",
       "    <tr>\n",
       "      <th>0</th>\n",
       "      <td>4 Juniors</td>\n",
       "      <td>24</td>\n",
       "      <td>5</td>\n",
       "      <td>2003</td>\n",
       "      <td>2004</td>\n",
       "    </tr>\n",
       "    <tr>\n",
       "      <th>1</th>\n",
       "      <td>Action Wheelers</td>\n",
       "      <td>9</td>\n",
       "      <td>0</td>\n",
       "      <td>2000</td>\n",
       "      <td>2001</td>\n",
       "    </tr>\n",
       "    <tr>\n",
       "      <th>2</th>\n",
       "      <td>Advanced models</td>\n",
       "      <td>35</td>\n",
       "      <td>12</td>\n",
       "      <td>2000</td>\n",
       "      <td>2012</td>\n",
       "    </tr>\n",
       "    <tr>\n",
       "      <th>3</th>\n",
       "      <td>Adventurers</td>\n",
       "      <td>72</td>\n",
       "      <td>4</td>\n",
       "      <td>1998</td>\n",
       "      <td>2003</td>\n",
       "    </tr>\n",
       "    <tr>\n",
       "      <th>4</th>\n",
       "      <td>Agents</td>\n",
       "      <td>13</td>\n",
       "      <td>0</td>\n",
       "      <td>2008</td>\n",
       "      <td>2009</td>\n",
       "    </tr>\n",
       "  </tbody>\n",
       "</table>\n",
       "</div>"
      ],
      "text/plain": [
       "             theme  setCount  subthemeCount  yearFrom  yearTo\n",
       "0        4 Juniors        24              5      2003    2004\n",
       "1  Action Wheelers         9              0      2000    2001\n",
       "2  Advanced models        35             12      2000    2012\n",
       "3      Adventurers        72              4      1998    2003\n",
       "4           Agents        13              0      2008    2009"
      ]
     },
     "execution_count": 2,
     "metadata": {},
     "output_type": "execute_result"
    }
   ],
   "source": [
    "# API Call to get list of LEGO themes and convert to dataframe\n",
    "themes = requests.get(f'https://brickset.com/api/v3.asmx/getThemes?apiKey={KEY_TWO}') \n",
    "data = themes.json()\n",
    "theme_df = pd.json_normalize(data, 'themes')\n",
    "print('Shape: ',theme_df.shape)\n",
    "theme_df.head()\n"
   ]
  },
  {
   "cell_type": "code",
   "execution_count": 3,
   "metadata": {},
   "outputs": [
    {
     "name": "stdout",
     "output_type": "stream",
     "text": [
      "theme_df shape:  (17, 5)\n"
     ]
    }
   ],
   "source": [
    "# Drop themes older than 1999, themes with less than 50 sets, sets that aren't currently in production, minifig theme, and miscellaneous theme\n",
    "mask = theme_df[(theme_df['yearFrom'] < 1999) | (theme_df['setCount'] < 50) | (theme_df['yearTo'] < 2022) |\n",
    "         (theme_df['theme'] == 'Collectable Minifigures') | (theme_df['theme'] == 'Miscellaneous')].index\n",
    "theme_df.drop(mask, inplace=True)\n",
    "print('theme_df shape: ',theme_df.shape)\n"
   ]
  },
  {
   "cell_type": "code",
   "execution_count": 4,
   "metadata": {},
   "outputs": [
    {
     "name": "stdout",
     "output_type": "stream",
     "text": [
      "Theme List:  BrickHeadz, Ninjago, Harry Potter\n"
     ]
    }
   ],
   "source": [
    "# Generate sample theme list to use in 2nd API call. Convert list to string for API parameters.\n",
    "theme_list = []\n",
    "for item in theme_df['theme'].sample(3):\n",
    "    theme_list.append(item)\n",
    "param_string = \", \".join(theme_list)\n",
    "print('Theme List: ',param_string)"
   ]
  },
  {
   "cell_type": "code",
   "execution_count": 5,
   "metadata": {},
   "outputs": [
    {
     "name": "stdout",
     "output_type": "stream",
     "text": [
      "set_df shape:  (716, 44)\n"
     ]
    }
   ],
   "source": [
    "# 2nd API call to get a full set list for themes in the theme list generated by first API call. Convert to a data frame\n",
    "parameters = {'theme' : f'{param_string}', 'pageSize' : 2500}\n",
    "set_list = requests.get(f\"https://brickset.com/api/v3.asmx/getSets?apiKey={KEY_TWO}&userHash=&params={parameters}\")\n",
    "set_data = set_list.json()\n",
    "set_df = pd.json_normalize(set_data,'sets')\n",
    "print('set_df shape: ',set_df.shape)\n"
   ]
  },
  {
   "cell_type": "code",
   "execution_count": 6,
   "metadata": {},
   "outputs": [
    {
     "data": {
      "text/html": [
       "<div>\n",
       "<style scoped>\n",
       "    .dataframe tbody tr th:only-of-type {\n",
       "        vertical-align: middle;\n",
       "    }\n",
       "\n",
       "    .dataframe tbody tr th {\n",
       "        vertical-align: top;\n",
       "    }\n",
       "\n",
       "    .dataframe thead th {\n",
       "        text-align: right;\n",
       "    }\n",
       "</style>\n",
       "<table border=\"1\" class=\"dataframe\">\n",
       "  <thead>\n",
       "    <tr style=\"text-align: right;\">\n",
       "      <th></th>\n",
       "      <th>setID</th>\n",
       "      <th>number</th>\n",
       "      <th>name</th>\n",
       "      <th>year</th>\n",
       "      <th>theme</th>\n",
       "      <th>themeGroup</th>\n",
       "      <th>subtheme</th>\n",
       "      <th>pieces</th>\n",
       "      <th>rating</th>\n",
       "      <th>ageRange.min</th>\n",
       "      <th>ageRange.max</th>\n",
       "    </tr>\n",
       "  </thead>\n",
       "  <tbody>\n",
       "    <tr>\n",
       "      <th>0</th>\n",
       "      <td>8283</td>\n",
       "      <td>2111</td>\n",
       "      <td>Kai</td>\n",
       "      <td>2011</td>\n",
       "      <td>Ninjago</td>\n",
       "      <td>Action/Adventure</td>\n",
       "      <td>Spinners</td>\n",
       "      <td>19.0</td>\n",
       "      <td>3.6</td>\n",
       "      <td>6.0</td>\n",
       "      <td>14.0</td>\n",
       "    </tr>\n",
       "    <tr>\n",
       "      <th>1</th>\n",
       "      <td>8284</td>\n",
       "      <td>2112</td>\n",
       "      <td>Cole</td>\n",
       "      <td>2011</td>\n",
       "      <td>Ninjago</td>\n",
       "      <td>Action/Adventure</td>\n",
       "      <td>Spinners</td>\n",
       "      <td>19.0</td>\n",
       "      <td>3.7</td>\n",
       "      <td>6.0</td>\n",
       "      <td>14.0</td>\n",
       "    </tr>\n",
       "    <tr>\n",
       "      <th>2</th>\n",
       "      <td>8285</td>\n",
       "      <td>2113</td>\n",
       "      <td>Zane</td>\n",
       "      <td>2011</td>\n",
       "      <td>Ninjago</td>\n",
       "      <td>Action/Adventure</td>\n",
       "      <td>Spinners</td>\n",
       "      <td>19.0</td>\n",
       "      <td>4.0</td>\n",
       "      <td>6.0</td>\n",
       "      <td>14.0</td>\n",
       "    </tr>\n",
       "    <tr>\n",
       "      <th>3</th>\n",
       "      <td>8286</td>\n",
       "      <td>2114</td>\n",
       "      <td>Chopov</td>\n",
       "      <td>2011</td>\n",
       "      <td>Ninjago</td>\n",
       "      <td>Action/Adventure</td>\n",
       "      <td>Spinners</td>\n",
       "      <td>20.0</td>\n",
       "      <td>3.6</td>\n",
       "      <td>6.0</td>\n",
       "      <td>14.0</td>\n",
       "    </tr>\n",
       "    <tr>\n",
       "      <th>4</th>\n",
       "      <td>8287</td>\n",
       "      <td>2115</td>\n",
       "      <td>Bonezai</td>\n",
       "      <td>2011</td>\n",
       "      <td>Ninjago</td>\n",
       "      <td>Action/Adventure</td>\n",
       "      <td>Spinners</td>\n",
       "      <td>21.0</td>\n",
       "      <td>3.4</td>\n",
       "      <td>6.0</td>\n",
       "      <td>14.0</td>\n",
       "    </tr>\n",
       "  </tbody>\n",
       "</table>\n",
       "</div>"
      ],
      "text/plain": [
       "   setID number     name  year    theme        themeGroup  subtheme  pieces  \\\n",
       "0   8283   2111      Kai  2011  Ninjago  Action/Adventure  Spinners    19.0   \n",
       "1   8284   2112     Cole  2011  Ninjago  Action/Adventure  Spinners    19.0   \n",
       "2   8285   2113     Zane  2011  Ninjago  Action/Adventure  Spinners    19.0   \n",
       "3   8286   2114   Chopov  2011  Ninjago  Action/Adventure  Spinners    20.0   \n",
       "4   8287   2115  Bonezai  2011  Ninjago  Action/Adventure  Spinners    21.0   \n",
       "\n",
       "   rating  ageRange.min  ageRange.max  \n",
       "0     3.6           6.0          14.0  \n",
       "1     3.7           6.0          14.0  \n",
       "2     4.0           6.0          14.0  \n",
       "3     3.6           6.0          14.0  \n",
       "4     3.4           6.0          14.0  "
      ]
     },
     "execution_count": 6,
     "metadata": {},
     "output_type": "execute_result"
    }
   ],
   "source": [
    "# Drop columns using helper function\n",
    "dc.drop_columns(set_df)\n",
    "set_df.head()"
   ]
  },
  {
   "cell_type": "code",
   "execution_count": 7,
   "metadata": {},
   "outputs": [
    {
     "name": "stdout",
     "output_type": "stream",
     "text": [
      "set_df shape:  (542, 11)\n"
     ]
    }
   ],
   "source": [
    "# Drop rows where there is no rating for the set.\n",
    "mask_two = set_df[set_df['rating'] == 0].index\n",
    "set_df.drop(mask_two, inplace=True)\n",
    "print('set_df shape: ',set_df.shape)\n"
   ]
  },
  {
   "cell_type": "code",
   "execution_count": 8,
   "metadata": {},
   "outputs": [
    {
     "name": "stdout",
     "output_type": "stream",
     "text": [
      "set_df shape:  (542, 11)\n"
     ]
    }
   ],
   "source": [
    "# Drop any rows if they have a NaN value in the pieces column\n",
    "pieces_null = set_df['pieces'].isnull().values.any()\n",
    "if pieces_null == True:\n",
    "    set_df.dropna(subset=['pieces'], inplace=True)\n",
    "print('set_df shape: ',set_df.shape)\n"
   ]
  },
  {
   "cell_type": "code",
   "execution_count": 9,
   "metadata": {},
   "outputs": [],
   "source": [
    "#Convert pieces, minimum age range, and maximum age range from floats to ints.\n",
    "set_df['pieces'] = set_df['pieces'].astype(pd.Int64Dtype())\n",
    "set_df['ageRange.min'] = set_df['ageRange.min'].astype(pd.Int64Dtype())\n",
    "set_df['ageRange.max'] = set_df['ageRange.max'].astype(pd.Int64Dtype())"
   ]
  },
  {
   "cell_type": "code",
   "execution_count": 10,
   "metadata": {},
   "outputs": [
    {
     "data": {
      "text/html": [
       "<div>\n",
       "<style scoped>\n",
       "    .dataframe tbody tr th:only-of-type {\n",
       "        vertical-align: middle;\n",
       "    }\n",
       "\n",
       "    .dataframe tbody tr th {\n",
       "        vertical-align: top;\n",
       "    }\n",
       "\n",
       "    .dataframe thead th {\n",
       "        text-align: right;\n",
       "    }\n",
       "</style>\n",
       "<table border=\"1\" class=\"dataframe\">\n",
       "  <thead>\n",
       "    <tr style=\"text-align: right;\">\n",
       "      <th></th>\n",
       "      <th>Set ID</th>\n",
       "      <th>Set Number</th>\n",
       "      <th>Set Name</th>\n",
       "      <th>Release Year</th>\n",
       "      <th>Theme</th>\n",
       "      <th>Theme Group</th>\n",
       "      <th>Subtheme</th>\n",
       "      <th>Number of Pieces</th>\n",
       "      <th>Brickset Rating</th>\n",
       "      <th>Min Age Range</th>\n",
       "      <th>Max Age Range</th>\n",
       "    </tr>\n",
       "  </thead>\n",
       "  <tbody>\n",
       "    <tr>\n",
       "      <th>0</th>\n",
       "      <td>8283</td>\n",
       "      <td>2111</td>\n",
       "      <td>Kai</td>\n",
       "      <td>2011</td>\n",
       "      <td>Ninjago</td>\n",
       "      <td>Action/Adventure</td>\n",
       "      <td>Spinners</td>\n",
       "      <td>19</td>\n",
       "      <td>3.6</td>\n",
       "      <td>6</td>\n",
       "      <td>14</td>\n",
       "    </tr>\n",
       "    <tr>\n",
       "      <th>1</th>\n",
       "      <td>8284</td>\n",
       "      <td>2112</td>\n",
       "      <td>Cole</td>\n",
       "      <td>2011</td>\n",
       "      <td>Ninjago</td>\n",
       "      <td>Action/Adventure</td>\n",
       "      <td>Spinners</td>\n",
       "      <td>19</td>\n",
       "      <td>3.7</td>\n",
       "      <td>6</td>\n",
       "      <td>14</td>\n",
       "    </tr>\n",
       "    <tr>\n",
       "      <th>2</th>\n",
       "      <td>8285</td>\n",
       "      <td>2113</td>\n",
       "      <td>Zane</td>\n",
       "      <td>2011</td>\n",
       "      <td>Ninjago</td>\n",
       "      <td>Action/Adventure</td>\n",
       "      <td>Spinners</td>\n",
       "      <td>19</td>\n",
       "      <td>4.0</td>\n",
       "      <td>6</td>\n",
       "      <td>14</td>\n",
       "    </tr>\n",
       "    <tr>\n",
       "      <th>3</th>\n",
       "      <td>8286</td>\n",
       "      <td>2114</td>\n",
       "      <td>Chopov</td>\n",
       "      <td>2011</td>\n",
       "      <td>Ninjago</td>\n",
       "      <td>Action/Adventure</td>\n",
       "      <td>Spinners</td>\n",
       "      <td>20</td>\n",
       "      <td>3.6</td>\n",
       "      <td>6</td>\n",
       "      <td>14</td>\n",
       "    </tr>\n",
       "    <tr>\n",
       "      <th>4</th>\n",
       "      <td>8287</td>\n",
       "      <td>2115</td>\n",
       "      <td>Bonezai</td>\n",
       "      <td>2011</td>\n",
       "      <td>Ninjago</td>\n",
       "      <td>Action/Adventure</td>\n",
       "      <td>Spinners</td>\n",
       "      <td>21</td>\n",
       "      <td>3.4</td>\n",
       "      <td>6</td>\n",
       "      <td>14</td>\n",
       "    </tr>\n",
       "  </tbody>\n",
       "</table>\n",
       "</div>"
      ],
      "text/plain": [
       "   Set ID Set Number Set Name  Release Year    Theme       Theme Group  \\\n",
       "0    8283       2111      Kai          2011  Ninjago  Action/Adventure   \n",
       "1    8284       2112     Cole          2011  Ninjago  Action/Adventure   \n",
       "2    8285       2113     Zane          2011  Ninjago  Action/Adventure   \n",
       "3    8286       2114   Chopov          2011  Ninjago  Action/Adventure   \n",
       "4    8287       2115  Bonezai          2011  Ninjago  Action/Adventure   \n",
       "\n",
       "   Subtheme  Number of Pieces  Brickset Rating  Min Age Range  Max Age Range  \n",
       "0  Spinners                19              3.6              6             14  \n",
       "1  Spinners                19              3.7              6             14  \n",
       "2  Spinners                19              4.0              6             14  \n",
       "3  Spinners                20              3.6              6             14  \n",
       "4  Spinners                21              3.4              6             14  "
      ]
     },
     "execution_count": 10,
     "metadata": {},
     "output_type": "execute_result"
    }
   ],
   "source": [
    "rename_dict = {\n",
    "               'setID' : 'Set ID',\n",
    "               'number' : 'Set Number',\n",
    "               'name' : 'Set Name',\n",
    "               'year' : 'Release Year',\n",
    "               'theme' : 'Theme',\n",
    "               'themeGroup' : 'Theme Group',\n",
    "               'subtheme' : 'Subtheme',\n",
    "               'pieces' : 'Number of Pieces',\n",
    "               'rating' : 'Brickset Rating',\n",
    "               'ageRange.min' : 'Min Age Range',\n",
    "               'ageRange.max' : 'Max Age Range',\n",
    "                }\n",
    "                \n",
    "\n",
    "set_df.rename(columns=rename_dict, inplace=True)\n",
    "set_df.head()"
   ]
  },
  {
   "cell_type": "code",
   "execution_count": 11,
   "metadata": {},
   "outputs": [],
   "source": [
    "set_df = set_df.sample(100)"
   ]
  },
  {
   "cell_type": "code",
   "execution_count": 12,
   "metadata": {},
   "outputs": [],
   "source": [
    "# Save data to CSV for visualization in Tableau\n",
    "file_path = dc.csv_path('theme_sample_set_list.csv')\n",
    "set_df.to_csv(file_path)"
   ]
  }
 ],
 "metadata": {
  "kernelspec": {
   "display_name": "Python 3.10.1 ('LegoProject': venv)",
   "language": "python",
   "name": "python3"
  },
  "language_info": {
   "codemirror_mode": {
    "name": "ipython",
    "version": 3
   },
   "file_extension": ".py",
   "mimetype": "text/x-python",
   "name": "python",
   "nbconvert_exporter": "python",
   "pygments_lexer": "ipython3",
   "version": "3.10.1"
  },
  "orig_nbformat": 4,
  "vscode": {
   "interpreter": {
    "hash": "e880f88284eb8328b652a29ec39a1056e20ed77630b5065dc39b8a8d12f605eb"
   }
  }
 },
 "nbformat": 4,
 "nbformat_minor": 2
}
