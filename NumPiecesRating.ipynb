{
 "cells": [
  {
   "cell_type": "code",
   "execution_count": 1,
   "metadata": {},
   "outputs": [],
   "source": [
    "import pandas as pd\n",
    "import requests\n",
    "from PythonScripts.keys import KEY_TWO\n",
    "import PythonScripts.data_clean as dc"
   ]
  },
  {
   "cell_type": "code",
   "execution_count": 2,
   "metadata": {},
   "outputs": [
    {
     "name": "stdout",
     "output_type": "stream",
     "text": [
      "Shape:  (153, 5)\n"
     ]
    },
    {
     "data": {
      "text/html": [
       "<div>\n",
       "<style scoped>\n",
       "    .dataframe tbody tr th:only-of-type {\n",
       "        vertical-align: middle;\n",
       "    }\n",
       "\n",
       "    .dataframe tbody tr th {\n",
       "        vertical-align: top;\n",
       "    }\n",
       "\n",
       "    .dataframe thead th {\n",
       "        text-align: right;\n",
       "    }\n",
       "</style>\n",
       "<table border=\"1\" class=\"dataframe\">\n",
       "  <thead>\n",
       "    <tr style=\"text-align: right;\">\n",
       "      <th></th>\n",
       "      <th>theme</th>\n",
       "      <th>setCount</th>\n",
       "      <th>subthemeCount</th>\n",
       "      <th>yearFrom</th>\n",
       "      <th>yearTo</th>\n",
       "    </tr>\n",
       "  </thead>\n",
       "  <tbody>\n",
       "    <tr>\n",
       "      <th>0</th>\n",
       "      <td>4 Juniors</td>\n",
       "      <td>24</td>\n",
       "      <td>5</td>\n",
       "      <td>2003</td>\n",
       "      <td>2004</td>\n",
       "    </tr>\n",
       "    <tr>\n",
       "      <th>1</th>\n",
       "      <td>Action Wheelers</td>\n",
       "      <td>9</td>\n",
       "      <td>0</td>\n",
       "      <td>2000</td>\n",
       "      <td>2001</td>\n",
       "    </tr>\n",
       "    <tr>\n",
       "      <th>2</th>\n",
       "      <td>Advanced models</td>\n",
       "      <td>35</td>\n",
       "      <td>12</td>\n",
       "      <td>2000</td>\n",
       "      <td>2012</td>\n",
       "    </tr>\n",
       "    <tr>\n",
       "      <th>3</th>\n",
       "      <td>Adventurers</td>\n",
       "      <td>72</td>\n",
       "      <td>4</td>\n",
       "      <td>1998</td>\n",
       "      <td>2003</td>\n",
       "    </tr>\n",
       "    <tr>\n",
       "      <th>4</th>\n",
       "      <td>Agents</td>\n",
       "      <td>13</td>\n",
       "      <td>0</td>\n",
       "      <td>2008</td>\n",
       "      <td>2009</td>\n",
       "    </tr>\n",
       "  </tbody>\n",
       "</table>\n",
       "</div>"
      ],
      "text/plain": [
       "             theme  setCount  subthemeCount  yearFrom  yearTo\n",
       "0        4 Juniors        24              5      2003    2004\n",
       "1  Action Wheelers         9              0      2000    2001\n",
       "2  Advanced models        35             12      2000    2012\n",
       "3      Adventurers        72              4      1998    2003\n",
       "4           Agents        13              0      2008    2009"
      ]
     },
     "execution_count": 2,
     "metadata": {},
     "output_type": "execute_result"
    }
   ],
   "source": [
    "# API Call to get list of LEGO themes and convert to DataFrame\n",
    "themes = requests.get(f'https://brickset.com/api/v3.asmx/getThemes?apiKey={KEY_TWO}') \n",
    "data = themes.json()\n",
    "theme_df = pd.json_normalize(data, 'themes')\n",
    "\n",
    "print('Shape: ',theme_df.shape)\n",
    "theme_df.head()"
   ]
  },
  {
   "cell_type": "code",
   "execution_count": 3,
   "metadata": {},
   "outputs": [
    {
     "name": "stdout",
     "output_type": "stream",
     "text": [
      "Starting theme_df shape:  (153, 5)\n",
      "Resulting theme_df shape:  (17, 5)\n"
     ]
    }
   ],
   "source": [
    "# Drop themes older than 1999, themes with less than 50 sets, sets that aren't currently in production, \n",
    "#minifig theme, or miscellaneous theme\n",
    "print('Starting theme_df shape: ',theme_df.shape)\n",
    "\n",
    "mask = theme_df[(theme_df['yearFrom'] < 1999) | (theme_df['setCount'] < 50) | (theme_df['yearTo'] < 2022) |\n",
    "         (theme_df['theme'] == 'Collectable Minifigures') | (theme_df['theme'] == 'Miscellaneous')].index\n",
    "theme_df.drop(mask, inplace=True)\n",
    "\n",
    "print('Resulting theme_df shape: ',theme_df.shape)"
   ]
  },
  {
   "cell_type": "code",
   "execution_count": 4,
   "metadata": {},
   "outputs": [
    {
     "name": "stdout",
     "output_type": "stream",
     "text": [
      "Theme List:  Speed Champions, Seasonal, Super Mario\n"
     ]
    }
   ],
   "source": [
    "# Generate sample theme list to use in 2nd API call. Convert list to string for API parameters.\n",
    "theme_list = []\n",
    "for item in theme_df['theme'].sample(3):\n",
    "    theme_list.append(item)\n",
    "param_string = \", \".join(theme_list)\n",
    "print('Theme List: ',param_string)"
   ]
  },
  {
   "cell_type": "code",
   "execution_count": 5,
   "metadata": {},
   "outputs": [
    {
     "name": "stdout",
     "output_type": "stream",
     "text": [
      "set_df shape:  (368, 44)\n"
     ]
    }
   ],
   "source": [
    "# 2nd API call to get a full set list for themes in the theme list generated by first API call. \n",
    "# Convert to a Dataframe.\n",
    "parameters = {'theme' : f'{param_string}', 'pageSize' : 2500}\n",
    "set_list = requests.get(f\"https://brickset.com/api/v3.asmx/getSets?apiKey={KEY_TWO}&userHash=&params={parameters}\")\n",
    "set_data = set_list.json()\n",
    "set_df = pd.json_normalize(set_data,'sets')\n",
    "print('set_df shape: ',set_df.shape)"
   ]
  },
  {
   "cell_type": "code",
   "execution_count": 6,
   "metadata": {},
   "outputs": [
    {
     "name": "stdout",
     "output_type": "stream",
     "text": [
      "set_df shape:  (368, 8)\n"
     ]
    },
    {
     "data": {
      "text/html": [
       "<div>\n",
       "<style scoped>\n",
       "    .dataframe tbody tr th:only-of-type {\n",
       "        vertical-align: middle;\n",
       "    }\n",
       "\n",
       "    .dataframe tbody tr th {\n",
       "        vertical-align: top;\n",
       "    }\n",
       "\n",
       "    .dataframe thead th {\n",
       "        text-align: right;\n",
       "    }\n",
       "</style>\n",
       "<table border=\"1\" class=\"dataframe\">\n",
       "  <thead>\n",
       "    <tr style=\"text-align: right;\">\n",
       "      <th></th>\n",
       "      <th>setID</th>\n",
       "      <th>number</th>\n",
       "      <th>name</th>\n",
       "      <th>year</th>\n",
       "      <th>theme</th>\n",
       "      <th>subtheme</th>\n",
       "      <th>pieces</th>\n",
       "      <th>rating</th>\n",
       "    </tr>\n",
       "  </thead>\n",
       "  <tbody>\n",
       "    <tr>\n",
       "      <th>0</th>\n",
       "      <td>166</td>\n",
       "      <td>1127</td>\n",
       "      <td>Santa</td>\n",
       "      <td>1999</td>\n",
       "      <td>Seasonal</td>\n",
       "      <td>Christmas</td>\n",
       "      <td>39.0</td>\n",
       "      <td>0.0</td>\n",
       "    </tr>\n",
       "    <tr>\n",
       "      <th>1</th>\n",
       "      <td>167</td>\n",
       "      <td>1128</td>\n",
       "      <td>Santa on Skis</td>\n",
       "      <td>1999</td>\n",
       "      <td>Seasonal</td>\n",
       "      <td>Christmas</td>\n",
       "      <td>21.0</td>\n",
       "      <td>0.0</td>\n",
       "    </tr>\n",
       "    <tr>\n",
       "      <th>2</th>\n",
       "      <td>168</td>\n",
       "      <td>1129</td>\n",
       "      <td>Santa on Reindeer</td>\n",
       "      <td>1999</td>\n",
       "      <td>Seasonal</td>\n",
       "      <td>Christmas</td>\n",
       "      <td>34.0</td>\n",
       "      <td>0.0</td>\n",
       "    </tr>\n",
       "    <tr>\n",
       "      <th>3</th>\n",
       "      <td>214</td>\n",
       "      <td>1263</td>\n",
       "      <td>Easter Bunny</td>\n",
       "      <td>2000</td>\n",
       "      <td>Seasonal</td>\n",
       "      <td>Easter</td>\n",
       "      <td>27.0</td>\n",
       "      <td>0.0</td>\n",
       "    </tr>\n",
       "    <tr>\n",
       "      <th>4</th>\n",
       "      <td>215</td>\n",
       "      <td>1264</td>\n",
       "      <td>Easter Chicks</td>\n",
       "      <td>2000</td>\n",
       "      <td>Seasonal</td>\n",
       "      <td>Easter</td>\n",
       "      <td>26.0</td>\n",
       "      <td>0.0</td>\n",
       "    </tr>\n",
       "  </tbody>\n",
       "</table>\n",
       "</div>"
      ],
      "text/plain": [
       "   setID number               name  year     theme   subtheme  pieces  rating\n",
       "0    166   1127              Santa  1999  Seasonal  Christmas    39.0     0.0\n",
       "1    167   1128      Santa on Skis  1999  Seasonal  Christmas    21.0     0.0\n",
       "2    168   1129  Santa on Reindeer  1999  Seasonal  Christmas    34.0     0.0\n",
       "3    214   1263       Easter Bunny  2000  Seasonal     Easter    27.0     0.0\n",
       "4    215   1264      Easter Chicks  2000  Seasonal     Easter    26.0     0.0"
      ]
     },
     "execution_count": 6,
     "metadata": {},
     "output_type": "execute_result"
    }
   ],
   "source": [
    "# Drop columns using helper function\n",
    "dc.drop_columns(set_df)\n",
    "\n",
    "print('set_df shape: ',set_df.shape)\n",
    "set_df.head()"
   ]
  },
  {
   "cell_type": "code",
   "execution_count": 7,
   "metadata": {},
   "outputs": [
    {
     "name": "stdout",
     "output_type": "stream",
     "text": [
      "set_df shape:  (200, 8)\n"
     ]
    }
   ],
   "source": [
    "# Drop rows where there is no rating for the set.\n",
    "mask_two = set_df[set_df['rating'] == 0].index\n",
    "set_df.drop(mask_two, inplace=True)\n",
    "print('set_df shape: ',set_df.shape)"
   ]
  },
  {
   "cell_type": "code",
   "execution_count": 8,
   "metadata": {},
   "outputs": [
    {
     "name": "stdout",
     "output_type": "stream",
     "text": [
      "set_df shape:  (185, 8)\n"
     ]
    },
    {
     "data": {
      "text/html": [
       "<div>\n",
       "<style scoped>\n",
       "    .dataframe tbody tr th:only-of-type {\n",
       "        vertical-align: middle;\n",
       "    }\n",
       "\n",
       "    .dataframe tbody tr th {\n",
       "        vertical-align: top;\n",
       "    }\n",
       "\n",
       "    .dataframe thead th {\n",
       "        text-align: right;\n",
       "    }\n",
       "</style>\n",
       "<table border=\"1\" class=\"dataframe\">\n",
       "  <thead>\n",
       "    <tr style=\"text-align: right;\">\n",
       "      <th></th>\n",
       "      <th>setID</th>\n",
       "      <th>number</th>\n",
       "      <th>name</th>\n",
       "      <th>year</th>\n",
       "      <th>theme</th>\n",
       "      <th>subtheme</th>\n",
       "      <th>pieces</th>\n",
       "      <th>rating</th>\n",
       "    </tr>\n",
       "  </thead>\n",
       "  <tbody>\n",
       "    <tr>\n",
       "      <th>24</th>\n",
       "      <td>29777</td>\n",
       "      <td>30342</td>\n",
       "      <td>Lamborghini Huracán Super Trofeo EVO</td>\n",
       "      <td>2020</td>\n",
       "      <td>Speed Champions</td>\n",
       "      <td>Lamborghini</td>\n",
       "      <td>70.0</td>\n",
       "      <td>3.6</td>\n",
       "    </tr>\n",
       "    <tr>\n",
       "      <th>25</th>\n",
       "      <td>31053</td>\n",
       "      <td>30343</td>\n",
       "      <td>McLaren Elva</td>\n",
       "      <td>2021</td>\n",
       "      <td>Speed Champions</td>\n",
       "      <td>McLaren</td>\n",
       "      <td>85.0</td>\n",
       "      <td>3.4</td>\n",
       "    </tr>\n",
       "    <tr>\n",
       "      <th>26</th>\n",
       "      <td>30196</td>\n",
       "      <td>30385</td>\n",
       "      <td>Super Mushroom Surprise</td>\n",
       "      <td>2020</td>\n",
       "      <td>Super Mario</td>\n",
       "      <td>Expansion Set</td>\n",
       "      <td>18.0</td>\n",
       "      <td>3.6</td>\n",
       "    </tr>\n",
       "    <tr>\n",
       "      <th>27</th>\n",
       "      <td>31397</td>\n",
       "      <td>30389</td>\n",
       "      <td>Fuzzy &amp; Mushroom Platform</td>\n",
       "      <td>2021</td>\n",
       "      <td>Super Mario</td>\n",
       "      <td>Expansion Set</td>\n",
       "      <td>39.0</td>\n",
       "      <td>2.9</td>\n",
       "    </tr>\n",
       "    <tr>\n",
       "      <th>28</th>\n",
       "      <td>32510</td>\n",
       "      <td>30434</td>\n",
       "      <td>Aston Martin Valkyrie AMR Pro</td>\n",
       "      <td>2022</td>\n",
       "      <td>Speed Champions</td>\n",
       "      <td>Aston Martin</td>\n",
       "      <td>97.0</td>\n",
       "      <td>3.3</td>\n",
       "    </tr>\n",
       "  </tbody>\n",
       "</table>\n",
       "</div>"
      ],
      "text/plain": [
       "    setID number                                  name  year            theme  \\\n",
       "24  29777  30342  Lamborghini Huracán Super Trofeo EVO  2020  Speed Champions   \n",
       "25  31053  30343                          McLaren Elva  2021  Speed Champions   \n",
       "26  30196  30385               Super Mushroom Surprise  2020      Super Mario   \n",
       "27  31397  30389             Fuzzy & Mushroom Platform  2021      Super Mario   \n",
       "28  32510  30434         Aston Martin Valkyrie AMR Pro  2022  Speed Champions   \n",
       "\n",
       "         subtheme  pieces  rating  \n",
       "24    Lamborghini    70.0     3.6  \n",
       "25        McLaren    85.0     3.4  \n",
       "26  Expansion Set    18.0     3.6  \n",
       "27  Expansion Set    39.0     2.9  \n",
       "28   Aston Martin    97.0     3.3  "
      ]
     },
     "execution_count": 8,
     "metadata": {},
     "output_type": "execute_result"
    }
   ],
   "source": [
    "# Drop any rows if they have a NaN value in the pieces column\n",
    "pieces_null = set_df['pieces'].isnull().values.any()\n",
    "if pieces_null == True:\n",
    "    set_df.dropna(subset=['pieces'], inplace=True)\n",
    "print('set_df shape: ',set_df.shape)\n",
    "set_df.head()"
   ]
  },
  {
   "cell_type": "code",
   "execution_count": 9,
   "metadata": {},
   "outputs": [
    {
     "data": {
      "text/html": [
       "<div>\n",
       "<style scoped>\n",
       "    .dataframe tbody tr th:only-of-type {\n",
       "        vertical-align: middle;\n",
       "    }\n",
       "\n",
       "    .dataframe tbody tr th {\n",
       "        vertical-align: top;\n",
       "    }\n",
       "\n",
       "    .dataframe thead th {\n",
       "        text-align: right;\n",
       "    }\n",
       "</style>\n",
       "<table border=\"1\" class=\"dataframe\">\n",
       "  <thead>\n",
       "    <tr style=\"text-align: right;\">\n",
       "      <th></th>\n",
       "      <th>setID</th>\n",
       "      <th>number</th>\n",
       "      <th>name</th>\n",
       "      <th>year</th>\n",
       "      <th>theme</th>\n",
       "      <th>subtheme</th>\n",
       "      <th>pieces</th>\n",
       "      <th>rating</th>\n",
       "    </tr>\n",
       "  </thead>\n",
       "  <tbody>\n",
       "    <tr>\n",
       "      <th>24</th>\n",
       "      <td>29777</td>\n",
       "      <td>30342</td>\n",
       "      <td>Lamborghini Huracán Super Trofeo EVO</td>\n",
       "      <td>2020</td>\n",
       "      <td>Speed Champions</td>\n",
       "      <td>Lamborghini</td>\n",
       "      <td>70</td>\n",
       "      <td>3.6</td>\n",
       "    </tr>\n",
       "    <tr>\n",
       "      <th>25</th>\n",
       "      <td>31053</td>\n",
       "      <td>30343</td>\n",
       "      <td>McLaren Elva</td>\n",
       "      <td>2021</td>\n",
       "      <td>Speed Champions</td>\n",
       "      <td>McLaren</td>\n",
       "      <td>85</td>\n",
       "      <td>3.4</td>\n",
       "    </tr>\n",
       "    <tr>\n",
       "      <th>26</th>\n",
       "      <td>30196</td>\n",
       "      <td>30385</td>\n",
       "      <td>Super Mushroom Surprise</td>\n",
       "      <td>2020</td>\n",
       "      <td>Super Mario</td>\n",
       "      <td>Expansion Set</td>\n",
       "      <td>18</td>\n",
       "      <td>3.6</td>\n",
       "    </tr>\n",
       "    <tr>\n",
       "      <th>27</th>\n",
       "      <td>31397</td>\n",
       "      <td>30389</td>\n",
       "      <td>Fuzzy &amp; Mushroom Platform</td>\n",
       "      <td>2021</td>\n",
       "      <td>Super Mario</td>\n",
       "      <td>Expansion Set</td>\n",
       "      <td>39</td>\n",
       "      <td>2.9</td>\n",
       "    </tr>\n",
       "    <tr>\n",
       "      <th>28</th>\n",
       "      <td>32510</td>\n",
       "      <td>30434</td>\n",
       "      <td>Aston Martin Valkyrie AMR Pro</td>\n",
       "      <td>2022</td>\n",
       "      <td>Speed Champions</td>\n",
       "      <td>Aston Martin</td>\n",
       "      <td>97</td>\n",
       "      <td>3.3</td>\n",
       "    </tr>\n",
       "  </tbody>\n",
       "</table>\n",
       "</div>"
      ],
      "text/plain": [
       "    setID number                                  name  year            theme  \\\n",
       "24  29777  30342  Lamborghini Huracán Super Trofeo EVO  2020  Speed Champions   \n",
       "25  31053  30343                          McLaren Elva  2021  Speed Champions   \n",
       "26  30196  30385               Super Mushroom Surprise  2020      Super Mario   \n",
       "27  31397  30389             Fuzzy & Mushroom Platform  2021      Super Mario   \n",
       "28  32510  30434         Aston Martin Valkyrie AMR Pro  2022  Speed Champions   \n",
       "\n",
       "         subtheme  pieces  rating  \n",
       "24    Lamborghini      70     3.6  \n",
       "25        McLaren      85     3.4  \n",
       "26  Expansion Set      18     3.6  \n",
       "27  Expansion Set      39     2.9  \n",
       "28   Aston Martin      97     3.3  "
      ]
     },
     "execution_count": 9,
     "metadata": {},
     "output_type": "execute_result"
    }
   ],
   "source": [
    "#Convert pieces, minimum age range, and maximum age range from floats to ints.\n",
    "set_df['pieces'] = set_df['pieces'].astype(pd.Int64Dtype())\n",
    "set_df.head()"
   ]
  },
  {
   "cell_type": "code",
   "execution_count": 10,
   "metadata": {},
   "outputs": [
    {
     "name": "stdout",
     "output_type": "stream",
     "text": [
      "Starting column labels: Index(['setID', 'number', 'name', 'year', 'theme', 'subtheme', 'pieces',\n",
      "       'rating'],\n",
      "      dtype='object')\n",
      "\n",
      "Resulting column labels: Index(['Set ID', 'Set Number', 'Set Name', 'Release Year', 'Theme', 'Subtheme',\n",
      "       'Number of Pieces', 'Brickset Rating'],\n",
      "      dtype='object')\n"
     ]
    },
    {
     "data": {
      "text/plain": [
       "(185, 8)"
      ]
     },
     "execution_count": 10,
     "metadata": {},
     "output_type": "execute_result"
    }
   ],
   "source": [
    "# Rename column labels\n",
    "print(f'Starting column labels: {set_df.columns}')\n",
    "\n",
    "rename_dict = {\n",
    "               'setID' : 'Set ID',\n",
    "               'number' : 'Set Number',\n",
    "               'name' : 'Set Name',\n",
    "               'year' : 'Release Year',\n",
    "               'theme' : 'Theme',\n",
    "               'subtheme' : 'Subtheme',\n",
    "               'pieces' : 'Number of Pieces',\n",
    "               'rating' : 'Brickset Rating',\n",
    "               }\n",
    "                \n",
    "\n",
    "set_df.rename(columns=rename_dict, inplace=True)\n",
    "print(f'\\nResulting column labels: {set_df.columns}')\n",
    "set_df.shape"
   ]
  },
  {
   "cell_type": "code",
   "execution_count": 11,
   "metadata": {},
   "outputs": [
    {
     "data": {
      "text/plain": [
       "(100, 8)"
      ]
     },
     "execution_count": 11,
     "metadata": {},
     "output_type": "execute_result"
    }
   ],
   "source": [
    "# Make a new DataFrame with a sample of 100 sets from set_df\n",
    "if len(set_df.index) > 100:\n",
    "    set_df = set_df.sample(100)\n",
    "else:\n",
    "    print('Restart notebook kernel and try again for a better sample')\n",
    "set_df.shape"
   ]
  },
  {
   "cell_type": "code",
   "execution_count": 12,
   "metadata": {},
   "outputs": [],
   "source": [
    "# Save sample DataFrame to .csv for visualization in Tableau\n",
    "file_path = dc.csv_path('theme_sample_set_list.csv')\n",
    "set_df.to_csv(file_path)"
   ]
  }
 ],
 "metadata": {
  "kernelspec": {
   "display_name": "Python 3 (ipykernel)",
   "language": "python",
   "name": "python3"
  },
  "language_info": {
   "codemirror_mode": {
    "name": "ipython",
    "version": 3
   },
   "file_extension": ".py",
   "mimetype": "text/x-python",
   "name": "python",
   "nbconvert_exporter": "python",
   "pygments_lexer": "ipython3",
   "version": "3.10.1"
  },
  "vscode": {
   "interpreter": {
    "hash": "e880f88284eb8328b652a29ec39a1056e20ed77630b5065dc39b8a8d12f605eb"
   }
  }
 },
 "nbformat": 4,
 "nbformat_minor": 2
}
