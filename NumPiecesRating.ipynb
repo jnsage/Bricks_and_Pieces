{
 "cells": [
  {
   "cell_type": "code",
   "execution_count": 1,
   "metadata": {},
   "outputs": [],
   "source": [
    "import pandas as pd\n",
    "import requests\n",
    "from PythonScripts.keys import KEY_TWO\n",
    "import PythonScripts.data_clean as dc"
   ]
  },
  {
   "cell_type": "code",
   "execution_count": 2,
   "metadata": {},
   "outputs": [
    {
     "name": "stdout",
     "output_type": "stream",
     "text": [
      "Shape:  (153, 5)\n"
     ]
    },
    {
     "data": {
      "text/html": [
       "<div>\n",
       "<style scoped>\n",
       "    .dataframe tbody tr th:only-of-type {\n",
       "        vertical-align: middle;\n",
       "    }\n",
       "\n",
       "    .dataframe tbody tr th {\n",
       "        vertical-align: top;\n",
       "    }\n",
       "\n",
       "    .dataframe thead th {\n",
       "        text-align: right;\n",
       "    }\n",
       "</style>\n",
       "<table border=\"1\" class=\"dataframe\">\n",
       "  <thead>\n",
       "    <tr style=\"text-align: right;\">\n",
       "      <th></th>\n",
       "      <th>theme</th>\n",
       "      <th>setCount</th>\n",
       "      <th>subthemeCount</th>\n",
       "      <th>yearFrom</th>\n",
       "      <th>yearTo</th>\n",
       "    </tr>\n",
       "  </thead>\n",
       "  <tbody>\n",
       "    <tr>\n",
       "      <th>0</th>\n",
       "      <td>4 Juniors</td>\n",
       "      <td>24</td>\n",
       "      <td>5</td>\n",
       "      <td>2003</td>\n",
       "      <td>2004</td>\n",
       "    </tr>\n",
       "    <tr>\n",
       "      <th>1</th>\n",
       "      <td>Action Wheelers</td>\n",
       "      <td>9</td>\n",
       "      <td>0</td>\n",
       "      <td>2000</td>\n",
       "      <td>2001</td>\n",
       "    </tr>\n",
       "    <tr>\n",
       "      <th>2</th>\n",
       "      <td>Advanced models</td>\n",
       "      <td>35</td>\n",
       "      <td>12</td>\n",
       "      <td>2000</td>\n",
       "      <td>2012</td>\n",
       "    </tr>\n",
       "    <tr>\n",
       "      <th>3</th>\n",
       "      <td>Adventurers</td>\n",
       "      <td>72</td>\n",
       "      <td>4</td>\n",
       "      <td>1998</td>\n",
       "      <td>2003</td>\n",
       "    </tr>\n",
       "    <tr>\n",
       "      <th>4</th>\n",
       "      <td>Agents</td>\n",
       "      <td>13</td>\n",
       "      <td>0</td>\n",
       "      <td>2008</td>\n",
       "      <td>2009</td>\n",
       "    </tr>\n",
       "  </tbody>\n",
       "</table>\n",
       "</div>"
      ],
      "text/plain": [
       "             theme  setCount  subthemeCount  yearFrom  yearTo\n",
       "0        4 Juniors        24              5      2003    2004\n",
       "1  Action Wheelers         9              0      2000    2001\n",
       "2  Advanced models        35             12      2000    2012\n",
       "3      Adventurers        72              4      1998    2003\n",
       "4           Agents        13              0      2008    2009"
      ]
     },
     "execution_count": 2,
     "metadata": {},
     "output_type": "execute_result"
    }
   ],
   "source": [
    "# API Call to get list of LEGO themes and convert to DataFrame\n",
    "themes = requests.get(f'https://brickset.com/api/v3.asmx/getThemes?apiKey={KEY_TWO}') \n",
    "data = themes.json()\n",
    "theme_df = pd.json_normalize(data, 'themes')\n",
    "\n",
    "print('Shape: ',theme_df.shape)\n",
    "theme_df.head()"
   ]
  },
  {
   "cell_type": "code",
   "execution_count": 3,
   "metadata": {},
   "outputs": [
    {
     "name": "stdout",
     "output_type": "stream",
     "text": [
      "Starting theme_df shape:  (153, 5)\n",
      "Resulting theme_df shape:  (17, 5)\n"
     ]
    }
   ],
   "source": [
    "# Drop themes older than 1999, themes with less than 50 sets, sets that aren't currently in production, \n",
    "#minifig theme, or miscellaneous theme\n",
    "print('Starting theme_df shape: ',theme_df.shape)\n",
    "\n",
    "mask = theme_df[(theme_df['yearFrom'] < 1999) | (theme_df['setCount'] < 50) | (theme_df['yearTo'] < 2022) |\n",
    "         (theme_df['theme'] == 'Collectable Minifigures') | (theme_df['theme'] == 'Miscellaneous')].index\n",
    "theme_df.drop(mask, inplace=True)\n",
    "\n",
    "print('Resulting theme_df shape: ',theme_df.shape)"
   ]
  },
  {
   "cell_type": "code",
   "execution_count": 4,
   "metadata": {},
   "outputs": [
    {
     "name": "stdout",
     "output_type": "stream",
     "text": [
      "Theme List:  Minecraft, Super Mario, Star Wars\n"
     ]
    }
   ],
   "source": [
    "# Generate sample theme list to use in 2nd API call. Convert list to string for API parameters.\n",
    "theme_list = []\n",
    "for item in theme_df['theme'].sample(3):\n",
    "    theme_list.append(item)\n",
    "param_string = \", \".join(theme_list)\n",
    "print('Theme List: ',param_string)"
   ]
  },
  {
   "cell_type": "code",
   "execution_count": 5,
   "metadata": {},
   "outputs": [
    {
     "name": "stdout",
     "output_type": "stream",
     "text": [
      "set_df shape:  (1066, 44)\n"
     ]
    }
   ],
   "source": [
    "# 2nd API call to get a full set list for themes in the theme list generated by first API call. \n",
    "# Convert to a Dataframe.\n",
    "parameters = {'theme' : f'{param_string}', 'pageSize' : 2500}\n",
    "set_list = requests.get(f\"https://brickset.com/api/v3.asmx/getSets?apiKey={KEY_TWO}&userHash=&params={parameters}\")\n",
    "set_data = set_list.json()\n",
    "set_df = pd.json_normalize(set_data,'sets')\n",
    "print('set_df shape: ',set_df.shape)"
   ]
  },
  {
   "cell_type": "code",
   "execution_count": 6,
   "metadata": {},
   "outputs": [
    {
     "name": "stdout",
     "output_type": "stream",
     "text": [
      "set_df shape:  (1066, 8)\n"
     ]
    },
    {
     "data": {
      "text/html": [
       "<div>\n",
       "<style scoped>\n",
       "    .dataframe tbody tr th:only-of-type {\n",
       "        vertical-align: middle;\n",
       "    }\n",
       "\n",
       "    .dataframe tbody tr th {\n",
       "        vertical-align: top;\n",
       "    }\n",
       "\n",
       "    .dataframe thead th {\n",
       "        text-align: right;\n",
       "    }\n",
       "</style>\n",
       "<table border=\"1\" class=\"dataframe\">\n",
       "  <thead>\n",
       "    <tr style=\"text-align: right;\">\n",
       "      <th></th>\n",
       "      <th>setID</th>\n",
       "      <th>number</th>\n",
       "      <th>name</th>\n",
       "      <th>year</th>\n",
       "      <th>theme</th>\n",
       "      <th>subtheme</th>\n",
       "      <th>pieces</th>\n",
       "      <th>rating</th>\n",
       "    </tr>\n",
       "  </thead>\n",
       "  <tbody>\n",
       "    <tr>\n",
       "      <th>0</th>\n",
       "      <td>1394</td>\n",
       "      <td>3219</td>\n",
       "      <td>Mini TIE Fighter</td>\n",
       "      <td>2002</td>\n",
       "      <td>Star Wars</td>\n",
       "      <td>Mini Building Set</td>\n",
       "      <td>12.0</td>\n",
       "      <td>3.5</td>\n",
       "    </tr>\n",
       "    <tr>\n",
       "      <th>1</th>\n",
       "      <td>1469</td>\n",
       "      <td>3340</td>\n",
       "      <td>Star Wars #1 - Emperor Palpatine, Darth Maul a...</td>\n",
       "      <td>2000</td>\n",
       "      <td>Star Wars</td>\n",
       "      <td>Minifig Pack</td>\n",
       "      <td>32.0</td>\n",
       "      <td>4.0</td>\n",
       "    </tr>\n",
       "    <tr>\n",
       "      <th>2</th>\n",
       "      <td>1470</td>\n",
       "      <td>3341</td>\n",
       "      <td>Star Wars #2 - Luke Skywalker, Han Solo and Bo...</td>\n",
       "      <td>2000</td>\n",
       "      <td>Star Wars</td>\n",
       "      <td>Minifig Pack</td>\n",
       "      <td>22.0</td>\n",
       "      <td>4.2</td>\n",
       "    </tr>\n",
       "    <tr>\n",
       "      <th>3</th>\n",
       "      <td>1471</td>\n",
       "      <td>3342</td>\n",
       "      <td>Star Wars #3 - Chewbacca and 2 Biker Scouts</td>\n",
       "      <td>2000</td>\n",
       "      <td>Star Wars</td>\n",
       "      <td>Minifig Pack</td>\n",
       "      <td>22.0</td>\n",
       "      <td>4.3</td>\n",
       "    </tr>\n",
       "    <tr>\n",
       "      <th>4</th>\n",
       "      <td>1472</td>\n",
       "      <td>3343</td>\n",
       "      <td>Star Wars #4 - Battle Droid Commander and 2 Ba...</td>\n",
       "      <td>2000</td>\n",
       "      <td>Star Wars</td>\n",
       "      <td>Minifig Pack</td>\n",
       "      <td>30.0</td>\n",
       "      <td>3.9</td>\n",
       "    </tr>\n",
       "  </tbody>\n",
       "</table>\n",
       "</div>"
      ],
      "text/plain": [
       "   setID number                                               name  year  \\\n",
       "0   1394   3219                                   Mini TIE Fighter  2002   \n",
       "1   1469   3340  Star Wars #1 - Emperor Palpatine, Darth Maul a...  2000   \n",
       "2   1470   3341  Star Wars #2 - Luke Skywalker, Han Solo and Bo...  2000   \n",
       "3   1471   3342        Star Wars #3 - Chewbacca and 2 Biker Scouts  2000   \n",
       "4   1472   3343  Star Wars #4 - Battle Droid Commander and 2 Ba...  2000   \n",
       "\n",
       "       theme           subtheme  pieces  rating  \n",
       "0  Star Wars  Mini Building Set    12.0     3.5  \n",
       "1  Star Wars       Minifig Pack    32.0     4.0  \n",
       "2  Star Wars       Minifig Pack    22.0     4.2  \n",
       "3  Star Wars       Minifig Pack    22.0     4.3  \n",
       "4  Star Wars       Minifig Pack    30.0     3.9  "
      ]
     },
     "execution_count": 6,
     "metadata": {},
     "output_type": "execute_result"
    }
   ],
   "source": [
    "# Drop columns using helper function\n",
    "dc.drop_columns(set_df)\n",
    "\n",
    "print('set_df shape: ',set_df.shape)\n",
    "set_df.head()"
   ]
  },
  {
   "cell_type": "code",
   "execution_count": 7,
   "metadata": {},
   "outputs": [
    {
     "name": "stdout",
     "output_type": "stream",
     "text": [
      "set_df shape:  (838, 8)\n"
     ]
    }
   ],
   "source": [
    "# Drop rows where there is no rating for the set.\n",
    "mask_two = set_df[set_df['rating'] == 0].index\n",
    "set_df.drop(mask_two, inplace=True)\n",
    "print('set_df shape: ',set_df.shape)"
   ]
  },
  {
   "cell_type": "code",
   "execution_count": 8,
   "metadata": {},
   "outputs": [
    {
     "name": "stdout",
     "output_type": "stream",
     "text": [
      "set_df shape:  (823, 8)\n"
     ]
    },
    {
     "data": {
      "text/html": [
       "<div>\n",
       "<style scoped>\n",
       "    .dataframe tbody tr th:only-of-type {\n",
       "        vertical-align: middle;\n",
       "    }\n",
       "\n",
       "    .dataframe tbody tr th {\n",
       "        vertical-align: top;\n",
       "    }\n",
       "\n",
       "    .dataframe thead th {\n",
       "        text-align: right;\n",
       "    }\n",
       "</style>\n",
       "<table border=\"1\" class=\"dataframe\">\n",
       "  <thead>\n",
       "    <tr style=\"text-align: right;\">\n",
       "      <th></th>\n",
       "      <th>setID</th>\n",
       "      <th>number</th>\n",
       "      <th>name</th>\n",
       "      <th>year</th>\n",
       "      <th>theme</th>\n",
       "      <th>subtheme</th>\n",
       "      <th>pieces</th>\n",
       "      <th>rating</th>\n",
       "    </tr>\n",
       "  </thead>\n",
       "  <tbody>\n",
       "    <tr>\n",
       "      <th>0</th>\n",
       "      <td>1394</td>\n",
       "      <td>3219</td>\n",
       "      <td>Mini TIE Fighter</td>\n",
       "      <td>2002</td>\n",
       "      <td>Star Wars</td>\n",
       "      <td>Mini Building Set</td>\n",
       "      <td>12.0</td>\n",
       "      <td>3.5</td>\n",
       "    </tr>\n",
       "    <tr>\n",
       "      <th>1</th>\n",
       "      <td>1469</td>\n",
       "      <td>3340</td>\n",
       "      <td>Star Wars #1 - Emperor Palpatine, Darth Maul a...</td>\n",
       "      <td>2000</td>\n",
       "      <td>Star Wars</td>\n",
       "      <td>Minifig Pack</td>\n",
       "      <td>32.0</td>\n",
       "      <td>4.0</td>\n",
       "    </tr>\n",
       "    <tr>\n",
       "      <th>2</th>\n",
       "      <td>1470</td>\n",
       "      <td>3341</td>\n",
       "      <td>Star Wars #2 - Luke Skywalker, Han Solo and Bo...</td>\n",
       "      <td>2000</td>\n",
       "      <td>Star Wars</td>\n",
       "      <td>Minifig Pack</td>\n",
       "      <td>22.0</td>\n",
       "      <td>4.2</td>\n",
       "    </tr>\n",
       "    <tr>\n",
       "      <th>3</th>\n",
       "      <td>1471</td>\n",
       "      <td>3342</td>\n",
       "      <td>Star Wars #3 - Chewbacca and 2 Biker Scouts</td>\n",
       "      <td>2000</td>\n",
       "      <td>Star Wars</td>\n",
       "      <td>Minifig Pack</td>\n",
       "      <td>22.0</td>\n",
       "      <td>4.3</td>\n",
       "    </tr>\n",
       "    <tr>\n",
       "      <th>4</th>\n",
       "      <td>1472</td>\n",
       "      <td>3343</td>\n",
       "      <td>Star Wars #4 - Battle Droid Commander and 2 Ba...</td>\n",
       "      <td>2000</td>\n",
       "      <td>Star Wars</td>\n",
       "      <td>Minifig Pack</td>\n",
       "      <td>30.0</td>\n",
       "      <td>3.9</td>\n",
       "    </tr>\n",
       "  </tbody>\n",
       "</table>\n",
       "</div>"
      ],
      "text/plain": [
       "   setID number                                               name  year  \\\n",
       "0   1394   3219                                   Mini TIE Fighter  2002   \n",
       "1   1469   3340  Star Wars #1 - Emperor Palpatine, Darth Maul a...  2000   \n",
       "2   1470   3341  Star Wars #2 - Luke Skywalker, Han Solo and Bo...  2000   \n",
       "3   1471   3342        Star Wars #3 - Chewbacca and 2 Biker Scouts  2000   \n",
       "4   1472   3343  Star Wars #4 - Battle Droid Commander and 2 Ba...  2000   \n",
       "\n",
       "       theme           subtheme  pieces  rating  \n",
       "0  Star Wars  Mini Building Set    12.0     3.5  \n",
       "1  Star Wars       Minifig Pack    32.0     4.0  \n",
       "2  Star Wars       Minifig Pack    22.0     4.2  \n",
       "3  Star Wars       Minifig Pack    22.0     4.3  \n",
       "4  Star Wars       Minifig Pack    30.0     3.9  "
      ]
     },
     "execution_count": 8,
     "metadata": {},
     "output_type": "execute_result"
    }
   ],
   "source": [
    "# Drop any rows if they have a NaN value in the pieces column\n",
    "pieces_null = set_df['pieces'].isnull().values.any()\n",
    "if pieces_null == True:\n",
    "    set_df.dropna(subset=['pieces'], inplace=True)\n",
    "print('set_df shape: ',set_df.shape)\n",
    "set_df.head()"
   ]
  },
  {
   "cell_type": "code",
   "execution_count": 9,
   "metadata": {},
   "outputs": [
    {
     "data": {
      "text/html": [
       "<div>\n",
       "<style scoped>\n",
       "    .dataframe tbody tr th:only-of-type {\n",
       "        vertical-align: middle;\n",
       "    }\n",
       "\n",
       "    .dataframe tbody tr th {\n",
       "        vertical-align: top;\n",
       "    }\n",
       "\n",
       "    .dataframe thead th {\n",
       "        text-align: right;\n",
       "    }\n",
       "</style>\n",
       "<table border=\"1\" class=\"dataframe\">\n",
       "  <thead>\n",
       "    <tr style=\"text-align: right;\">\n",
       "      <th></th>\n",
       "      <th>setID</th>\n",
       "      <th>number</th>\n",
       "      <th>name</th>\n",
       "      <th>year</th>\n",
       "      <th>theme</th>\n",
       "      <th>subtheme</th>\n",
       "      <th>pieces</th>\n",
       "      <th>rating</th>\n",
       "    </tr>\n",
       "  </thead>\n",
       "  <tbody>\n",
       "    <tr>\n",
       "      <th>0</th>\n",
       "      <td>1394</td>\n",
       "      <td>3219</td>\n",
       "      <td>Mini TIE Fighter</td>\n",
       "      <td>2002</td>\n",
       "      <td>Star Wars</td>\n",
       "      <td>Mini Building Set</td>\n",
       "      <td>12</td>\n",
       "      <td>3.5</td>\n",
       "    </tr>\n",
       "    <tr>\n",
       "      <th>1</th>\n",
       "      <td>1469</td>\n",
       "      <td>3340</td>\n",
       "      <td>Star Wars #1 - Emperor Palpatine, Darth Maul a...</td>\n",
       "      <td>2000</td>\n",
       "      <td>Star Wars</td>\n",
       "      <td>Minifig Pack</td>\n",
       "      <td>32</td>\n",
       "      <td>4.0</td>\n",
       "    </tr>\n",
       "    <tr>\n",
       "      <th>2</th>\n",
       "      <td>1470</td>\n",
       "      <td>3341</td>\n",
       "      <td>Star Wars #2 - Luke Skywalker, Han Solo and Bo...</td>\n",
       "      <td>2000</td>\n",
       "      <td>Star Wars</td>\n",
       "      <td>Minifig Pack</td>\n",
       "      <td>22</td>\n",
       "      <td>4.2</td>\n",
       "    </tr>\n",
       "    <tr>\n",
       "      <th>3</th>\n",
       "      <td>1471</td>\n",
       "      <td>3342</td>\n",
       "      <td>Star Wars #3 - Chewbacca and 2 Biker Scouts</td>\n",
       "      <td>2000</td>\n",
       "      <td>Star Wars</td>\n",
       "      <td>Minifig Pack</td>\n",
       "      <td>22</td>\n",
       "      <td>4.3</td>\n",
       "    </tr>\n",
       "    <tr>\n",
       "      <th>4</th>\n",
       "      <td>1472</td>\n",
       "      <td>3343</td>\n",
       "      <td>Star Wars #4 - Battle Droid Commander and 2 Ba...</td>\n",
       "      <td>2000</td>\n",
       "      <td>Star Wars</td>\n",
       "      <td>Minifig Pack</td>\n",
       "      <td>30</td>\n",
       "      <td>3.9</td>\n",
       "    </tr>\n",
       "  </tbody>\n",
       "</table>\n",
       "</div>"
      ],
      "text/plain": [
       "   setID number                                               name  year  \\\n",
       "0   1394   3219                                   Mini TIE Fighter  2002   \n",
       "1   1469   3340  Star Wars #1 - Emperor Palpatine, Darth Maul a...  2000   \n",
       "2   1470   3341  Star Wars #2 - Luke Skywalker, Han Solo and Bo...  2000   \n",
       "3   1471   3342        Star Wars #3 - Chewbacca and 2 Biker Scouts  2000   \n",
       "4   1472   3343  Star Wars #4 - Battle Droid Commander and 2 Ba...  2000   \n",
       "\n",
       "       theme           subtheme  pieces  rating  \n",
       "0  Star Wars  Mini Building Set      12     3.5  \n",
       "1  Star Wars       Minifig Pack      32     4.0  \n",
       "2  Star Wars       Minifig Pack      22     4.2  \n",
       "3  Star Wars       Minifig Pack      22     4.3  \n",
       "4  Star Wars       Minifig Pack      30     3.9  "
      ]
     },
     "execution_count": 9,
     "metadata": {},
     "output_type": "execute_result"
    }
   ],
   "source": [
    "#Convert pieces, minimum age range, and maximum age range from floats to ints.\n",
    "set_df['pieces'] = set_df['pieces'].astype(pd.Int64Dtype())\n",
    "set_df.head()"
   ]
  },
  {
   "cell_type": "code",
   "execution_count": 10,
   "metadata": {},
   "outputs": [
    {
     "name": "stdout",
     "output_type": "stream",
     "text": [
      "Starting column labels: Index(['setID', 'number', 'name', 'year', 'theme', 'subtheme', 'pieces',\n",
      "       'rating'],\n",
      "      dtype='object')\n",
      "\n",
      "Resulting column labels: Index(['Set ID', 'Set Number', 'Set Name', 'Release Year', 'Theme', 'Subtheme',\n",
      "       'Number of Pieces', 'Brickset Rating'],\n",
      "      dtype='object')\n"
     ]
    },
    {
     "data": {
      "text/plain": [
       "(823, 8)"
      ]
     },
     "execution_count": 10,
     "metadata": {},
     "output_type": "execute_result"
    }
   ],
   "source": [
    "# Rename column labels\n",
    "print(f'Starting column labels: {set_df.columns}')\n",
    "\n",
    "rename_dict = {\n",
    "               'setID' : 'Set ID',\n",
    "               'number' : 'Set Number',\n",
    "               'name' : 'Set Name',\n",
    "               'year' : 'Release Year',\n",
    "               'theme' : 'Theme',\n",
    "               'subtheme' : 'Subtheme',\n",
    "               'pieces' : 'Number of Pieces',\n",
    "               'rating' : 'Brickset Rating',\n",
    "               }\n",
    "                \n",
    "\n",
    "set_df.rename(columns=rename_dict, inplace=True)\n",
    "print(f'\\nResulting column labels: {set_df.columns}')\n",
    "set_df.shape"
   ]
  },
  {
   "cell_type": "code",
   "execution_count": 11,
   "metadata": {},
   "outputs": [
    {
     "data": {
      "text/plain": [
       "(50, 8)"
      ]
     },
     "execution_count": 11,
     "metadata": {},
     "output_type": "execute_result"
    }
   ],
   "source": [
    "# Make a new DataFrame with a sample of 100 sets from set_df\n",
    "if len(set_df.index) > 50:\n",
    "    set_df = set_df.sample(50)\n",
    "else:\n",
    "    print('Restart notebook kernel and try again for a better sample')\n",
    "set_df.shape"
   ]
  },
  {
   "cell_type": "code",
   "execution_count": 12,
   "metadata": {},
   "outputs": [],
   "source": [
    "# Save sample DataFrame to .csv for visualization in Tableau\n",
    "file_path = dc.csv_path('theme_sample_set_list.csv')\n",
    "set_df.to_csv(file_path)"
   ]
  }
 ],
 "metadata": {
  "kernelspec": {
   "display_name": "Python 3 (ipykernel)",
   "language": "python",
   "name": "python3"
  },
  "language_info": {
   "codemirror_mode": {
    "name": "ipython",
    "version": 3
   },
   "file_extension": ".py",
   "mimetype": "text/x-python",
   "name": "python",
   "nbconvert_exporter": "python",
   "pygments_lexer": "ipython3",
   "version": "3.10.1"
  },
  "vscode": {
   "interpreter": {
    "hash": "e880f88284eb8328b652a29ec39a1056e20ed77630b5065dc39b8a8d12f605eb"
   }
  }
 },
 "nbformat": 4,
 "nbformat_minor": 2
}
