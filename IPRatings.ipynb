{
 "cells": [
  {
   "cell_type": "markdown",
   "metadata": {},
   "source": [
    "## IPRatings | Popularity of Star Wars Titles compared to Brickset Ratings\n",
    "\n",
    "#### This notebook generates data to investigate a relationship between the [Rotten Tomatoes](https://rottentomatoes.com) scores for Star Wars titles and the ratings of Star Wars LEGO sets on [Brickset](https://brickset.com/). The Rotten Tomatoes scores were compiled in July 2022 into [SWMovies Google Sheet](https://docs.google.com/spreadsheets/d/1xw7y9yawF6i35BTfP9M1uUawJvwpacz01Xq4MEZszBs). The final output of this will be a .csv, ultimately used in a [Tableau Dashboard](https://public.tableau.com/app/profile/jared.sage/viz/BricksandPieces/BricksandPieces). This notebook will merge two DataFrames and generate \"tomato.csv\" in the \"CSVs\" folder in this repo.\n",
    "\n",
    "#### Prediction: LEGO set popularity will not directly correlate to the popularity of a Star Wars title. There are likely more, undetermined, factors specific to rating LEGO sets beyond popularity of a licensed title.\n",
    "\n",
    "#### Import the necessary packages to run the program. PythonScripts is a folder of scripts made for this project. KEY_TWO will be the Brickset API key. data_clean is for functions used across the 2 or more notebooks in this repo. "
   ]
  },
  {
   "cell_type": "code",
   "execution_count": null,
   "metadata": {},
   "outputs": [],
   "source": [
    "import pandas as pd\n",
    "import requests\n",
    "from PythonScripts.keys import KEY_TWO\n",
    "import PythonScripts.data_clean as dc"
   ]
  },
  {
   "cell_type": "markdown",
   "metadata": {},
   "source": [
    "#### To get started we will configure the parameters for reading the Star Wars title scores Google Sheet into a DataFrame. The parameters are then fed into pandas.read_csv to create the DataFrame. Output is the resulting DataFrame"
   ]
  },
  {
   "cell_type": "code",
   "execution_count": 2,
   "metadata": {},
   "outputs": [],
   "source": [
    "# Configure URL for pd.read_csv and read as DataFrame\n",
    "# Full sheet URL == https://docs.google.com/spreadsheets/d/1xw7y9yawF6i35BTfP9M1uUawJvwpacz01Xq4MEZszBs/\n",
    "workbook_id = \"1xw7y9yawF6i35BTfP9M1uUawJvwpacz01Xq4MEZszBs\"\n",
    "sheet_name = \"Tomato\"\n",
    "url = f\"https://docs.google.com/spreadsheets/d/{workbook_id}/gviz/tq?tqx=out:csv&sheet={sheet_name}\"\n",
    "ip_df = pd.read_csv(url, parse_dates=['Release_Date'])\n",
    "ip_df"
   ]
  },
  {
   "cell_type": "markdown",
   "metadata": {},
   "source": [
    "#### The Release Date column looks pretty messy. There are values with full dates, and lots that just start on January first. To clean this up, we will format these values to just the year of the date. Output shows the new values of the release dates."
   ]
  },
  {
   "cell_type": "code",
   "execution_count": 4,
   "metadata": {},
   "outputs": [
    {
     "data": {
      "text/html": [
       "<div>\n",
       "<style scoped>\n",
       "    .dataframe tbody tr th:only-of-type {\n",
       "        vertical-align: middle;\n",
       "    }\n",
       "\n",
       "    .dataframe tbody tr th {\n",
       "        vertical-align: top;\n",
       "    }\n",
       "\n",
       "    .dataframe thead th {\n",
       "        text-align: right;\n",
       "    }\n",
       "</style>\n",
       "<table border=\"1\" class=\"dataframe\">\n",
       "  <thead>\n",
       "    <tr style=\"text-align: right;\">\n",
       "      <th></th>\n",
       "      <th>Title</th>\n",
       "      <th>Is_Movie</th>\n",
       "      <th>Is_TV</th>\n",
       "      <th>Release_Date</th>\n",
       "      <th>Tomatometer</th>\n",
       "    </tr>\n",
       "  </thead>\n",
       "  <tbody>\n",
       "    <tr>\n",
       "      <th>0</th>\n",
       "      <td>Episode IV – A New Hope</td>\n",
       "      <td>Y</td>\n",
       "      <td>N</td>\n",
       "      <td>1977</td>\n",
       "      <td>93%</td>\n",
       "    </tr>\n",
       "    <tr>\n",
       "      <th>1</th>\n",
       "      <td>Episode V – The Empire Strikes Back</td>\n",
       "      <td>Y</td>\n",
       "      <td>N</td>\n",
       "      <td>1980</td>\n",
       "      <td>94%</td>\n",
       "    </tr>\n",
       "    <tr>\n",
       "      <th>2</th>\n",
       "      <td>Episode VI – Return of the Jedi</td>\n",
       "      <td>Y</td>\n",
       "      <td>N</td>\n",
       "      <td>1983</td>\n",
       "      <td>83%</td>\n",
       "    </tr>\n",
       "    <tr>\n",
       "      <th>3</th>\n",
       "      <td>Episode I – The Phantom Menace</td>\n",
       "      <td>Y</td>\n",
       "      <td>N</td>\n",
       "      <td>1999</td>\n",
       "      <td>51%</td>\n",
       "    </tr>\n",
       "    <tr>\n",
       "      <th>4</th>\n",
       "      <td>Episode II – Attack of the Clones</td>\n",
       "      <td>Y</td>\n",
       "      <td>N</td>\n",
       "      <td>2002</td>\n",
       "      <td>66%</td>\n",
       "    </tr>\n",
       "    <tr>\n",
       "      <th>5</th>\n",
       "      <td>Episode III – Revenge of the Sith</td>\n",
       "      <td>Y</td>\n",
       "      <td>N</td>\n",
       "      <td>2005</td>\n",
       "      <td>79%</td>\n",
       "    </tr>\n",
       "    <tr>\n",
       "      <th>6</th>\n",
       "      <td>Episode VII – The Force Awakens</td>\n",
       "      <td>Y</td>\n",
       "      <td>N</td>\n",
       "      <td>2015</td>\n",
       "      <td>93%</td>\n",
       "    </tr>\n",
       "    <tr>\n",
       "      <th>7</th>\n",
       "      <td>Episode VIII – The Last Jedi</td>\n",
       "      <td>Y</td>\n",
       "      <td>N</td>\n",
       "      <td>2017</td>\n",
       "      <td>91%</td>\n",
       "    </tr>\n",
       "    <tr>\n",
       "      <th>8</th>\n",
       "      <td>Episode IX – The Rise of Skywalker</td>\n",
       "      <td>Y</td>\n",
       "      <td>N</td>\n",
       "      <td>2019</td>\n",
       "      <td>52%</td>\n",
       "    </tr>\n",
       "    <tr>\n",
       "      <th>9</th>\n",
       "      <td>Star Wars: The Clone Wars</td>\n",
       "      <td>Y</td>\n",
       "      <td>N</td>\n",
       "      <td>2008</td>\n",
       "      <td>18%</td>\n",
       "    </tr>\n",
       "    <tr>\n",
       "      <th>10</th>\n",
       "      <td>Rogue One</td>\n",
       "      <td>Y</td>\n",
       "      <td>N</td>\n",
       "      <td>2016</td>\n",
       "      <td>84%</td>\n",
       "    </tr>\n",
       "    <tr>\n",
       "      <th>11</th>\n",
       "      <td>Solo</td>\n",
       "      <td>Y</td>\n",
       "      <td>N</td>\n",
       "      <td>2018</td>\n",
       "      <td>69%</td>\n",
       "    </tr>\n",
       "    <tr>\n",
       "      <th>12</th>\n",
       "      <td>Star Wars: The Bad Batch</td>\n",
       "      <td>N</td>\n",
       "      <td>Y</td>\n",
       "      <td>2021</td>\n",
       "      <td>85%</td>\n",
       "    </tr>\n",
       "    <tr>\n",
       "      <th>13</th>\n",
       "      <td>Star Wars: Resistance</td>\n",
       "      <td>N</td>\n",
       "      <td>Y</td>\n",
       "      <td>2018</td>\n",
       "      <td>92%</td>\n",
       "    </tr>\n",
       "    <tr>\n",
       "      <th>14</th>\n",
       "      <td>Star Wars: Rebels</td>\n",
       "      <td>N</td>\n",
       "      <td>Y</td>\n",
       "      <td>2014</td>\n",
       "      <td>98%</td>\n",
       "    </tr>\n",
       "    <tr>\n",
       "      <th>15</th>\n",
       "      <td>Star Wars: The Clone Wars</td>\n",
       "      <td>N</td>\n",
       "      <td>Y</td>\n",
       "      <td>2008</td>\n",
       "      <td>93%</td>\n",
       "    </tr>\n",
       "    <tr>\n",
       "      <th>16</th>\n",
       "      <td>The Mandalorian</td>\n",
       "      <td>N</td>\n",
       "      <td>Y</td>\n",
       "      <td>2019</td>\n",
       "      <td>93%</td>\n",
       "    </tr>\n",
       "    <tr>\n",
       "      <th>17</th>\n",
       "      <td>The Book of Boba Fett</td>\n",
       "      <td>N</td>\n",
       "      <td>Y</td>\n",
       "      <td>2021</td>\n",
       "      <td>66%</td>\n",
       "    </tr>\n",
       "  </tbody>\n",
       "</table>\n",
       "</div>"
      ],
      "text/plain": [
       "                                  Title Is_Movie Is_TV Release_Date  \\\n",
       "0               Episode IV – A New Hope        Y     N         1977   \n",
       "1   Episode V – The Empire Strikes Back        Y     N         1980   \n",
       "2       Episode VI – Return of the Jedi        Y     N         1983   \n",
       "3        Episode I – The Phantom Menace        Y     N         1999   \n",
       "4     Episode II – Attack of the Clones        Y     N         2002   \n",
       "5     Episode III – Revenge of the Sith        Y     N         2005   \n",
       "6       Episode VII – The Force Awakens        Y     N         2015   \n",
       "7          Episode VIII – The Last Jedi        Y     N         2017   \n",
       "8    Episode IX – The Rise of Skywalker        Y     N         2019   \n",
       "9             Star Wars: The Clone Wars        Y     N         2008   \n",
       "10                            Rogue One        Y     N         2016   \n",
       "11                                 Solo        Y     N         2018   \n",
       "12             Star Wars: The Bad Batch        N     Y         2021   \n",
       "13                Star Wars: Resistance        N     Y         2018   \n",
       "14                    Star Wars: Rebels        N     Y         2014   \n",
       "15            Star Wars: The Clone Wars        N     Y         2008   \n",
       "16                      The Mandalorian        N     Y         2019   \n",
       "17                The Book of Boba Fett        N     Y         2021   \n",
       "\n",
       "   Tomatometer  \n",
       "0          93%  \n",
       "1          94%  \n",
       "2          83%  \n",
       "3          51%  \n",
       "4          66%  \n",
       "5          79%  \n",
       "6          93%  \n",
       "7          91%  \n",
       "8          52%  \n",
       "9          18%  \n",
       "10         84%  \n",
       "11         69%  \n",
       "12         85%  \n",
       "13         92%  \n",
       "14         98%  \n",
       "15         93%  \n",
       "16         93%  \n",
       "17         66%  "
      ]
     },
     "execution_count": 4,
     "metadata": {},
     "output_type": "execute_result"
    }
   ],
   "source": [
    "# Format Date column to display as the year\n",
    "ip_df['Release_Date'] = ip_df['Release_Date'].dt.strftime('%Y')\n",
    "ip_df"
   ]
  },
  {
   "cell_type": "markdown",
   "metadata": {},
   "source": [
    "#### We are going to do a little more cleaning to make the merge easier down the road. We first remove the subtitles from titles with \"Episode\". We then define and call a function to remove \"Star Wars: \" from other properties leaving only the subtitles. Output shows the newly renamed values in the Title column."
   ]
  },
  {
   "cell_type": "code",
   "execution_count": 5,
   "metadata": {},
   "outputs": [
    {
     "data": {
      "text/plain": [
       "0                Episode IV\n",
       "1                 Episode V\n",
       "2                Episode VI\n",
       "3                 Episode I\n",
       "4                Episode II\n",
       "5               Episode III\n",
       "6               Episode VII\n",
       "7              Episode VIII\n",
       "8                Episode IX\n",
       "9            The Clone Wars\n",
       "10                Rogue One\n",
       "11                     Solo\n",
       "12            The Bad Batch\n",
       "13               Resistance\n",
       "14                   Rebels\n",
       "15           The Clone Wars\n",
       "16          The Mandalorian\n",
       "17    The Book of Boba Fett\n",
       "Name: Title, dtype: object"
      ]
     },
     "execution_count": 5,
     "metadata": {},
     "output_type": "execute_result"
    }
   ],
   "source": [
    "# Clean extra text out the Title column\n",
    "\n",
    "for item, str in ip_df['Title'].items():\n",
    "        head, sep, tail = str.partition(' – ')\n",
    "        ip_df['Title'].replace(to_replace=str, value = head, inplace=True)\n",
    "\n",
    "\n",
    "# Function for cleaning a series by partition\n",
    "def part_colon(column_label: pd.Series) -> pd.Series:\n",
    "        for item, value in column_label.items():\n",
    "           if ': ' in value:\n",
    "                head, sep, tail = value.partition(': ')\n",
    "                column_label.replace(to_replace=value, value = tail, inplace=True)\n",
    "        \n",
    "# Run cleaning function on Title column\n",
    "part_colon(ip_df['Title'])\n",
    "ip_df['Title']"
   ]
  },
  {
   "cell_type": "code",
   "execution_count": null,
   "metadata": {},
   "outputs": [],
   "source": [
    "# Drop duplicate Clone Wars, first 3 episodes of TV show theaterical release. Duplicate value and outlier\n",
    "ip_df.drop(index=9, inplace=True)\n",
    "ip_df.reset_index(drop=True, inplace=True)\n",
    "ip_df"
   ]
  },
  {
   "cell_type": "code",
   "execution_count": null,
   "metadata": {},
   "outputs": [],
   "source": [
    "# API call for information for sets in Star Wars theme and convert to dataframe. \n",
    "parameters = {'theme' : 'Star Wars', 'pageSize' : 900}\n",
    "sw_set_list = requests.get(f\"https://brickset.com/api/v3.asmx/getSets?apiKey={KEY_TWO}&userHash=&params={parameters}\")\n",
    "sw_data = sw_set_list.json()\n",
    "sw_df = pd.json_normalize(sw_data,'sets')\n",
    "print(f'sw_df shape: {sw_df.shape}')\n",
    "sw_df.head()"
   ]
  },
  {
   "cell_type": "code",
   "execution_count": null,
   "metadata": {},
   "outputs": [],
   "source": [
    "dc.drop_columns(sw_df)\n",
    "print(f'sw_df shape: {sw_df.shape}')"
   ]
  },
  {
   "cell_type": "code",
   "execution_count": null,
   "metadata": {},
   "outputs": [],
   "source": [
    "# Replace certain values with values matching first data frame\n",
    "subthemes = sw_df['subtheme'].sort_values().unique()\n",
    "print(f'Subthemes: f{subthemes}')\n",
    "\n",
    "sw_df['subtheme'].replace(to_replace={'The Clone Wars' : 'Star Wars: The Clone Wars', \n",
    "                                       'The Force Awakens' : 'Episode VII', \n",
    "                                       'The Last Jedi' : 'Episode VIII', \n",
    "                                       'The Rise of Skywalker' : 'Episode IX' }, inplace=True)\n",
    "subthemes = sw_df['subtheme'].sort_values().unique()\n",
    "print(f'\\nRenamed Subthemes: f{subthemes}')"
   ]
  },
  {
   "cell_type": "code",
   "execution_count": null,
   "metadata": {},
   "outputs": [],
   "source": [
    "# Drop any rows where the set has not been rated and where there is NaN for number of pieces.\n",
    "mask_two = sw_df[sw_df['rating'] == 0].index\n",
    "sw_df.drop(mask_two, inplace=True)\n",
    "\n",
    "pieces_null = sw_df.isnull().values.any()\n",
    "if pieces_null == True:\n",
    "    sw_df.dropna(subset=['pieces'], inplace=True)\n",
    "                 \n",
    "print(f'sw_df shape: {sw_df.shape}')\n",
    "sw_df.head()"
   ]
  },
  {
   "cell_type": "code",
   "execution_count": null,
   "metadata": {},
   "outputs": [],
   "source": [
    "# Convert pieces to Int64 \n",
    "sw_df['pieces'] = sw_df['pieces'].astype(pd.Int64Dtype())\n",
    "sw_df.head()"
   ]
  },
  {
   "cell_type": "code",
   "execution_count": null,
   "metadata": {},
   "outputs": [],
   "source": [
    "# Run clean via partition function on the subtheme column of the second dataframe\n",
    "part_colon(sw_df['subtheme'])"
   ]
  },
  {
   "cell_type": "code",
   "execution_count": null,
   "metadata": {},
   "outputs": [],
   "source": [
    "# Group subthemes by the number of sets in the the subtheme\n",
    "lego_set_count = sw_df.groupby(['subtheme'])['number'].count()\n",
    "lego_set_count"
   ]
  },
  {
   "cell_type": "code",
   "execution_count": null,
   "metadata": {},
   "outputs": [],
   "source": [
    "# Group subthemes by the average rating\n",
    "rating_avg=sw_df.groupby(['subtheme'])['rating'].mean().round(2)\n",
    "rating_avg"
   ]
  },
  {
   "cell_type": "code",
   "execution_count": null,
   "metadata": {},
   "outputs": [],
   "source": [
    "# Create a new DataFrame combining the set count and rating by subtheme\n",
    "agg_df = pd.concat([lego_set_count, rating_avg], axis=1)\n",
    "agg_df"
   ]
  },
  {
   "cell_type": "code",
   "execution_count": null,
   "metadata": {},
   "outputs": [],
   "source": [
    "# Merge DataFrame of set #s and average rating into DataFrame of Star Wars properties\n",
    "merged_df = ip_df.merge(agg_df, how='left', left_on='Title', right_on='subtheme')\n",
    "merged_df"
   ]
  },
  {
   "cell_type": "code",
   "execution_count": null,
   "metadata": {},
   "outputs": [],
   "source": [
    "# Replace percentage string with a float value for percentage rating\n",
    "for index, value in merged_df['Tomatometer'].items():\n",
    "    x = value.strip('%')\n",
    "    merged_df['Tomatometer'] = merged_df['Tomatometer'].replace(value, x)\n",
    "merged_df['Tomatometer'] = merged_df['Tomatometer'].astype(float)\n",
    "merged_df['Tomatometer'] = merged_df['Tomatometer']/100\n",
    "merged_df.head()"
   ]
  },
  {
   "cell_type": "code",
   "execution_count": null,
   "metadata": {},
   "outputs": [],
   "source": [
    "# Make new column that converts Bricket rating from 5 point scale to a percentage scale\n",
    "merged_df['Tomatometer'] = merged_df['Tomatometer'].astype(float)\n",
    "merged_df['Brickset % Rating'] =  merged_df['rating'] / 5\n",
    "merged_df.head()"
   ]
  },
  {
   "cell_type": "code",
   "execution_count": null,
   "metadata": {},
   "outputs": [],
   "source": [
    "# Write the merged DataFrame to .csv for visualization in Tableau\n",
    "file_path = dc.csv_path('tomato.csv')\n",
    "merged_df.to_csv(file_path)"
   ]
  }
 ],
 "metadata": {
  "kernelspec": {
   "display_name": "Python 3.10.1 64-bit",
   "language": "python",
   "name": "python3"
  },
  "language_info": {
   "codemirror_mode": {
    "name": "ipython",
    "version": 3
   },
   "file_extension": ".py",
   "mimetype": "text/x-python",
   "name": "python",
   "nbconvert_exporter": "python",
   "pygments_lexer": "ipython3",
   "version": "3.10.1"
  },
  "vscode": {
   "interpreter": {
    "hash": "26de051ba29f2982a8de78e945f0abaf191376122a1563185a90213a26c5da77"
   }
  }
 },
 "nbformat": 4,
 "nbformat_minor": 2
}
