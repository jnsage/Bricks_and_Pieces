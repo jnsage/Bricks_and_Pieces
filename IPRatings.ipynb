{
 "cells": [
  {
   "cell_type": "code",
   "execution_count": null,
   "metadata": {},
   "outputs": [],
   "source": [
    "import pandas as pd\n",
    "import requests\n",
    "from PythonScripts.keys import KEY_TWO\n",
    "import PythonScripts.data_clean as dc"
   ]
  },
  {
   "cell_type": "code",
   "execution_count": null,
   "metadata": {},
   "outputs": [],
   "source": [
    "# Configure URL for pd.read_csv\n",
    "# Full sheet URL == https://docs.google.com/spreadsheets/d/1xw7y9yawF6i35BTfP9M1uUawJvwpacz01Xq4MEZszBs/\n",
    "workbook_id = \"1xw7y9yawF6i35BTfP9M1uUawJvwpacz01Xq4MEZszBs\"\n",
    "sheet_name = \"Tomato\"\n",
    "url = f\"https://docs.google.com/spreadsheets/d/{workbook_id}/gviz/tq?tqx=out:csv&sheet={sheet_name}\""
   ]
  },
  {
   "cell_type": "code",
   "execution_count": null,
   "metadata": {},
   "outputs": [],
   "source": [
    "# Read Google Sheet and convert to a Dataframe\n",
    "ip_df = pd.read_csv(url, parse_dates=['Release_Date'])\n",
    "ip_df"
   ]
  },
  {
   "cell_type": "code",
   "execution_count": null,
   "metadata": {},
   "outputs": [],
   "source": [
    "# Format Date column to display as the year\n",
    "ip_df['Release_Date'] = ip_df['Release_Date'].dt.strftime('%Y')\n",
    "ip_df"
   ]
  },
  {
   "cell_type": "code",
   "execution_count": null,
   "metadata": {},
   "outputs": [],
   "source": [
    "# Clean extra text out the Title column\n",
    "\n",
    "for item, str in ip_df['Title'].items():\n",
    "        head, sep, tail = str.partition(' – ')\n",
    "        ip_df['Title'].replace(to_replace=str, value = head, inplace=True)\n",
    "\n",
    "\n",
    "# Function for cleaning a series by partition\n",
    "def part_colon(column_label: pd.Series) -> pd.Series:\n",
    "        for item, value in column_label.items():\n",
    "           if ': ' in value:\n",
    "                head, sep, tail = value.partition(': ')\n",
    "                column_label.replace(to_replace=value, value = tail, inplace=True)\n",
    "        \n",
    "# Run cleaning function on Title column\n",
    "part_colon(ip_df['Title'])\n",
    "ip_df['Title']"
   ]
  },
  {
   "cell_type": "code",
   "execution_count": null,
   "metadata": {},
   "outputs": [],
   "source": [
    "# Drop duplicate Clone Wars, first 3 episodes of TV show theaterical release. Duplicate value and outlier\n",
    "ip_df.drop(index=9, inplace=True)\n",
    "ip_df.reset_index(drop=True, inplace=True)\n",
    "ip_df"
   ]
  },
  {
   "cell_type": "code",
   "execution_count": null,
   "metadata": {},
   "outputs": [],
   "source": [
    "# API call for information for sets in Star Wars theme and convert to dataframe. \n",
    "parameters = {'theme' : 'Star Wars', 'pageSize' : 900}\n",
    "sw_set_list = requests.get(f\"https://brickset.com/api/v3.asmx/getSets?apiKey={KEY_TWO}&userHash=&params={parameters}\")\n",
    "sw_data = sw_set_list.json()\n",
    "sw_df = pd.json_normalize(sw_data,'sets')\n",
    "print(f'sw_df shape: {sw_df.shape}')\n",
    "sw_df.head()"
   ]
  },
  {
   "cell_type": "code",
   "execution_count": null,
   "metadata": {},
   "outputs": [],
   "source": [
    "dc.drop_columns(sw_df)\n",
    "print(f'sw_df shape: {sw_df.shape}')"
   ]
  },
  {
   "cell_type": "code",
   "execution_count": null,
   "metadata": {},
   "outputs": [],
   "source": [
    "# Replace certain values with values matching first data frame\n",
    "subthemes = sw_df['subtheme'].sort_values().unique()\n",
    "print(f'Subthemes: f{subthemes}')\n",
    "\n",
    "sw_df['subtheme'].replace(to_replace={'The Clone Wars' : 'Star Wars: The Clone Wars', \n",
    "                                       'The Force Awakens' : 'Episode VII', \n",
    "                                       'The Last Jedi' : 'Episode VIII', \n",
    "                                       'The Rise of Skywalker' : 'Episode IX' }, inplace=True)\n",
    "subthemes = sw_df['subtheme'].sort_values().unique()\n",
    "print(f'\\nRenamed Subthemes: f{subthemes}')"
   ]
  },
  {
   "cell_type": "code",
   "execution_count": null,
   "metadata": {},
   "outputs": [],
   "source": [
    "# Drop any rows where the set has not been rated and where there is NaN for number of pieces.\n",
    "mask_two = sw_df[sw_df['rating'] == 0].index\n",
    "sw_df.drop(mask_two, inplace=True)\n",
    "\n",
    "pieces_null = sw_df.isnull().values.any()\n",
    "if pieces_null == True:\n",
    "    sw_df.dropna(subset=['pieces'], inplace=True)\n",
    "                 \n",
    "print(f'sw_df shape: {sw_df.shape}')\n",
    "sw_df.head()"
   ]
  },
  {
   "cell_type": "code",
   "execution_count": null,
   "metadata": {},
   "outputs": [],
   "source": [
    "# Convert pieces to Int64 \n",
    "sw_df['pieces'] = sw_df['pieces'].astype(pd.Int64Dtype())\n",
    "sw_df.head()"
   ]
  },
  {
   "cell_type": "code",
   "execution_count": null,
   "metadata": {},
   "outputs": [],
   "source": [
    "# Run clean via partition function on the subtheme column of the second dataframe\n",
    "part_colon(sw_df['subtheme'])"
   ]
  },
  {
   "cell_type": "code",
   "execution_count": null,
   "metadata": {},
   "outputs": [],
   "source": [
    "# Group subthemes by the number of sets in the the subtheme\n",
    "lego_set_count = sw_df.groupby(['subtheme'])['number'].count()\n",
    "lego_set_count"
   ]
  },
  {
   "cell_type": "code",
   "execution_count": null,
   "metadata": {},
   "outputs": [],
   "source": [
    "# Group subthemes by the average rating\n",
    "rating_avg=sw_df.groupby(['subtheme'])['rating'].mean().round(2)\n",
    "rating_avg"
   ]
  },
  {
   "cell_type": "code",
   "execution_count": null,
   "metadata": {},
   "outputs": [],
   "source": [
    "# Create a new DataFrame combining the set count and rating by subtheme\n",
    "agg_df = pd.concat([lego_set_count, rating_avg], axis=1)\n",
    "agg_df"
   ]
  },
  {
   "cell_type": "code",
   "execution_count": null,
   "metadata": {},
   "outputs": [],
   "source": [
    "# Merge DataFrame of set #s and average rating into DataFrame of Star Wars properties\n",
    "merged_df = ip_df.merge(agg_df, how='left', left_on='Title', right_on='subtheme')\n",
    "merged_df"
   ]
  },
  {
   "cell_type": "code",
   "execution_count": null,
   "metadata": {},
   "outputs": [],
   "source": [
    "# Write the merged DataFrame to .csv for visualization in Tableau\n",
    "file_path = dc.csv_path('star_wars_set_list.csv')\n",
    "merged_df.to_csv(file_path)"
   ]
  }
 ],
 "metadata": {
  "kernelspec": {
   "display_name": "Python 3 (ipykernel)",
   "language": "python",
   "name": "python3"
  },
  "language_info": {
   "codemirror_mode": {
    "name": "ipython",
    "version": 3
   },
   "file_extension": ".py",
   "mimetype": "text/x-python",
   "name": "python",
   "nbconvert_exporter": "python",
   "pygments_lexer": "ipython3",
   "version": "3.10.1"
  },
  "vscode": {
   "interpreter": {
    "hash": "e880f88284eb8328b652a29ec39a1056e20ed77630b5065dc39b8a8d12f605eb"
   }
  }
 },
 "nbformat": 4,
 "nbformat_minor": 2
}
