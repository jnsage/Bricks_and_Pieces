{
 "cells": [
  {
   "cell_type": "code",
   "execution_count": 1,
   "metadata": {},
   "outputs": [],
   "source": [
    "import pandas as pd\n",
    "import requests\n",
    "from keys import KEY_TWO\n"
   ]
  },
  {
   "cell_type": "code",
   "execution_count": 2,
   "metadata": {},
   "outputs": [],
   "source": [
    "themes = requests.get(f'https://brickset.com/api/v3.asmx/getThemes?apiKey={KEY_TWO}') "
   ]
  },
  {
   "cell_type": "code",
   "execution_count": 3,
   "metadata": {},
   "outputs": [
    {
     "data": {
      "text/plain": [
       "(153, 5)"
      ]
     },
     "execution_count": 3,
     "metadata": {},
     "output_type": "execute_result"
    }
   ],
   "source": [
    "data = themes.json()\n",
    "df = pd.json_normalize(data, 'themes')\n",
    "df.shape"
   ]
  },
  {
   "cell_type": "code",
   "execution_count": 4,
   "metadata": {},
   "outputs": [
    {
     "data": {
      "text/plain": [
       "(153, 5)"
      ]
     },
     "execution_count": 4,
     "metadata": {},
     "output_type": "execute_result"
    }
   ],
   "source": [
    "df.sort_values('theme', axis=0, ascending=True, inplace=True)\n",
    "df.shape"
   ]
  },
  {
   "cell_type": "code",
   "execution_count": 5,
   "metadata": {},
   "outputs": [],
   "source": [
    "# mask = df[df['yearFrom'] < 1999].index\n",
    "# mask_two = df[df['setCount'] < 50].index \n",
    "# mask_three = df[df['yearTo'] < 2022].index\n",
    "# df.drop(mask, inplace=True)\n",
    "# df.drop(mask_two, inplace=True)\n",
    "# df.drop(mask_three, inplace=True)\n",
    "\n",
    "mask = df[(df['yearFrom'] < 1999) | (df['setCount'] < 50) | (df['yearTo'] < 2022)].index\n",
    "df.drop(mask, inplace=True)"
   ]
  },
  {
   "cell_type": "code",
   "execution_count": 6,
   "metadata": {},
   "outputs": [
    {
     "data": {
      "text/plain": [
       "(19, 5)"
      ]
     },
     "execution_count": 6,
     "metadata": {},
     "output_type": "execute_result"
    }
   ],
   "source": [
    "df.shape"
   ]
  },
  {
   "cell_type": "code",
   "execution_count": 7,
   "metadata": {},
   "outputs": [
    {
     "data": {
      "text/plain": [
       "(17, 5)"
      ]
     },
     "execution_count": 7,
     "metadata": {},
     "output_type": "execute_result"
    }
   ],
   "source": [
    "mask_two = df[(df['theme'] == 'Collectable Minifigures') | (df['theme'] == 'Miscellaneous')].index\n",
    "df.drop(mask_two, inplace=True)\n",
    "df.shape\n"
   ]
  },
  {
   "cell_type": "code",
   "execution_count": 8,
   "metadata": {},
   "outputs": [
    {
     "name": "stdout",
     "output_type": "stream",
     "text": [
      "['Seasonal', 'Harry Potter', 'Disney', 'Marvel Super Heroes', 'DC Comics Super Heroes']\n"
     ]
    }
   ],
   "source": [
    "theme_list = []\n",
    "for item in df['theme'].sample(5):\n",
    "    theme_list.append(item)\n",
    "print(theme_list)"
   ]
  },
  {
   "cell_type": "code",
   "execution_count": 9,
   "metadata": {},
   "outputs": [
    {
     "data": {
      "text/plain": [
       "'Seasonal, Harry Potter, Disney, Marvel Super Heroes, DC Comics Super Heroes'"
      ]
     },
     "execution_count": 9,
     "metadata": {},
     "output_type": "execute_result"
    }
   ],
   "source": [
    "param_string = \", \".join(theme_list)\n",
    "param_string\n"
   ]
  },
  {
   "cell_type": "code",
   "execution_count": 29,
   "metadata": {},
   "outputs": [
    {
     "ename": "TypeError",
     "evalue": "_json_normalize() got multiple values for argument 'record_path'",
     "output_type": "error",
     "traceback": [
      "\u001b[1;31m---------------------------------------------------------------------------\u001b[0m",
      "\u001b[1;31mTypeError\u001b[0m                                 Traceback (most recent call last)",
      "\u001b[1;32mc:\\CodeL\\LegoProject\\Lego.ipynb Cell 10'\u001b[0m in \u001b[0;36m<cell line: 8>\u001b[1;34m()\u001b[0m\n\u001b[0;32m      <a href='vscode-notebook-cell:/c%3A/CodeL/LegoProject/Lego.ipynb#ch0000009?line=5'>6</a>\u001b[0m set_data \u001b[39m=\u001b[39m set_list\u001b[39m.\u001b[39mjson()\n\u001b[0;32m      <a href='vscode-notebook-cell:/c%3A/CodeL/LegoProject/Lego.ipynb#ch0000009?line=6'>7</a>\u001b[0m set_data\n\u001b[1;32m----> <a href='vscode-notebook-cell:/c%3A/CodeL/LegoProject/Lego.ipynb#ch0000009?line=7'>8</a>\u001b[0m set_df \u001b[39m=\u001b[39m pd\u001b[39m.\u001b[39;49mjson_normalize(set_data,\u001b[39m'\u001b[39;49m\u001b[39msets\u001b[39;49m\u001b[39m'\u001b[39;49m, record_path\u001b[39m=\u001b[39;49m\u001b[39m'\u001b[39;49m\u001b[39msetID\u001b[39;49m\u001b[39m'\u001b[39;49m)\n\u001b[0;32m      <a href='vscode-notebook-cell:/c%3A/CodeL/LegoProject/Lego.ipynb#ch0000009?line=8'>9</a>\u001b[0m set_df\u001b[39m.\u001b[39mto_csv(\u001b[39m'\u001b[39m\u001b[39m./set_list.csv\u001b[39m\u001b[39m'\u001b[39m)\n\u001b[0;32m     <a href='vscode-notebook-cell:/c%3A/CodeL/LegoProject/Lego.ipynb#ch0000009?line=9'>10</a>\u001b[0m set_df\u001b[39m.\u001b[39mshape\n",
      "\u001b[1;31mTypeError\u001b[0m: _json_normalize() got multiple values for argument 'record_path'"
     ]
    }
   ],
   "source": [
    "# set_list = requests.get(f'https://brickset.com/api/v3.asmx/getYears?apiKey={KEY_TWO}&theme={theme_list}')\n",
    "parameters = {'theme' : f'{param_string}', 'pageSize' : 2500}\n",
    "set_list = requests.get(f\"https://brickset.com/api/v3.asmx/getSets?apiKey={KEY_TWO}&userHash=&params={parameters}\")\n",
    "set_list\n",
    "set_data = set_list.json()\n",
    "set_data\n",
    "set_df = pd.json_normalize(set_data,'sets')\n",
    "set_df.to_csv('./set_list.csv')\n",
    "set_df.shape\n"
   ]
  },
  {
   "cell_type": "code",
   "execution_count": 30,
   "metadata": {},
   "outputs": [
    {
     "ename": "TypeError",
     "evalue": "_json_normalize() got an unexpected keyword argument 'columns'",
     "output_type": "error",
     "traceback": [
      "\u001b[1;31m---------------------------------------------------------------------------\u001b[0m",
      "\u001b[1;31mTypeError\u001b[0m                                 Traceback (most recent call last)",
      "\u001b[1;32mc:\\CodeL\\LegoProject\\Lego.ipynb Cell 11'\u001b[0m in \u001b[0;36m<cell line: 15>\u001b[1;34m()\u001b[0m\n\u001b[0;32m      <a href='vscode-notebook-cell:/c%3A/CodeL/LegoProject/Lego.ipynb#ch0000011?line=0'>1</a>\u001b[0m df_columns \u001b[39m=\u001b[39m [\n\u001b[0;32m      <a href='vscode-notebook-cell:/c%3A/CodeL/LegoProject/Lego.ipynb#ch0000011?line=1'>2</a>\u001b[0m \u001b[39m'\u001b[39m\u001b[39msetID\u001b[39m\u001b[39m'\u001b[39m\n\u001b[0;32m      <a href='vscode-notebook-cell:/c%3A/CodeL/LegoProject/Lego.ipynb#ch0000011?line=2'>3</a>\u001b[0m \u001b[39m'\u001b[39m\u001b[39mnumber\u001b[39m\u001b[39m'\u001b[39m,\n\u001b[1;32m   (...)\u001b[0m\n\u001b[0;32m     <a href='vscode-notebook-cell:/c%3A/CodeL/LegoProject/Lego.ipynb#ch0000011?line=12'>13</a>\u001b[0m \u001b[39m'\u001b[39m\u001b[39mageRange.min\u001b[39m\u001b[39m'\u001b[39m,\n\u001b[0;32m     <a href='vscode-notebook-cell:/c%3A/CodeL/LegoProject/Lego.ipynb#ch0000011?line=13'>14</a>\u001b[0m \u001b[39m'\u001b[39m\u001b[39mageRange.max\u001b[39m\u001b[39m'\u001b[39m]\n\u001b[1;32m---> <a href='vscode-notebook-cell:/c%3A/CodeL/LegoProject/Lego.ipynb#ch0000011?line=14'>15</a>\u001b[0m set_df \u001b[39m=\u001b[39m pd\u001b[39m.\u001b[39;49mjson_normalize(set_data,\u001b[39m'\u001b[39;49m\u001b[39msets\u001b[39;49m\u001b[39m'\u001b[39;49m, columns\u001b[39m=\u001b[39;49mdf_columns)\n\u001b[0;32m     <a href='vscode-notebook-cell:/c%3A/CodeL/LegoProject/Lego.ipynb#ch0000011?line=15'>16</a>\u001b[0m set_df\u001b[39m.\u001b[39mto_csv(\u001b[39m'\u001b[39m\u001b[39m./set_list.csv\u001b[39m\u001b[39m'\u001b[39m)\n\u001b[0;32m     <a href='vscode-notebook-cell:/c%3A/CodeL/LegoProject/Lego.ipynb#ch0000011?line=16'>17</a>\u001b[0m set_df\u001b[39m.\u001b[39mshape\n",
      "\u001b[1;31mTypeError\u001b[0m: _json_normalize() got an unexpected keyword argument 'columns'"
     ]
    }
   ],
   "source": [
    "df_columns = [\n",
    "             'setID'\n",
    "             'number',\n",
    "             'numberVariant',\n",
    "             'name',\n",
    "             'year',\n",
    "             'theme',\n",
    "             'themeGroup',\n",
    "             'subtheme',\n",
    "             'category',\n",
    "             'released',\n",
    "             'pieces',\n",
    "             'ageRange.min',\n",
    "             'ageRange.max'\n",
    "             ]\n",
    "set_df = pd.json_normalize(set_data,'sets')\n",
    "set_df.to_csv('./set_list.csv')\n",
    "set_df.shape"
   ]
  },
  {
   "cell_type": "code",
   "execution_count": null,
   "metadata": {},
   "outputs": [],
   "source": []
  }
 ],
 "metadata": {
  "kernelspec": {
   "display_name": "Python 3.10.1 ('LegoProject': venv)",
   "language": "python",
   "name": "python3"
  },
  "language_info": {
   "codemirror_mode": {
    "name": "ipython",
    "version": 3
   },
   "file_extension": ".py",
   "mimetype": "text/x-python",
   "name": "python",
   "nbconvert_exporter": "python",
   "pygments_lexer": "ipython3",
   "version": "3.10.1"
  },
  "orig_nbformat": 4,
  "vscode": {
   "interpreter": {
    "hash": "e880f88284eb8328b652a29ec39a1056e20ed77630b5065dc39b8a8d12f605eb"
   }
  }
 },
 "nbformat": 4,
 "nbformat_minor": 2
}
