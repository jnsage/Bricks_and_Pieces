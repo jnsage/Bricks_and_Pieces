{
 "cells": [
  {
   "cell_type": "code",
   "execution_count": 1,
   "metadata": {},
   "outputs": [],
   "source": [
    "import pandas as pd\n",
    "import requests\n",
    "from keys import KEY_TWO\n"
   ]
  },
  {
   "cell_type": "code",
   "execution_count": 2,
   "metadata": {},
   "outputs": [],
   "source": [
    "themes = requests.get(f'https://brickset.com/api/v3.asmx/getThemes?apiKey={KEY_TWO}') "
   ]
  },
  {
   "cell_type": "code",
   "execution_count": 3,
   "metadata": {},
   "outputs": [
    {
     "data": {
      "text/plain": [
       "(153, 5)"
      ]
     },
     "execution_count": 3,
     "metadata": {},
     "output_type": "execute_result"
    }
   ],
   "source": [
    "data = themes.json()\n",
    "df = pd.json_normalize(data, 'themes')\n",
    "df.shape"
   ]
  },
  {
   "cell_type": "code",
   "execution_count": 4,
   "metadata": {},
   "outputs": [
    {
     "data": {
      "text/plain": [
       "(153, 5)"
      ]
     },
     "execution_count": 4,
     "metadata": {},
     "output_type": "execute_result"
    }
   ],
   "source": [
    "df.sort_values('theme', axis=0, ascending=True, inplace=True)\n",
    "df.shape"
   ]
  },
  {
   "cell_type": "code",
   "execution_count": 5,
   "metadata": {},
   "outputs": [],
   "source": [
    "# mask = df[df['yearFrom'] < 1999].index\n",
    "# mask_two = df[df['setCount'] < 50].index \n",
    "# mask_three = df[df['yearTo'] < 2022].index\n",
    "# df.drop(mask, inplace=True)\n",
    "# df.drop(mask_two, inplace=True)\n",
    "# df.drop(mask_three, inplace=True)\n",
    "\n",
    "mask = df[(df['yearFrom'] < 1999) | (df['setCount'] < 50) | (df['yearTo'] < 2022)].index\n",
    "df.drop(mask, inplace=True)"
   ]
  },
  {
   "cell_type": "code",
   "execution_count": 6,
   "metadata": {},
   "outputs": [
    {
     "data": {
      "text/plain": [
       "(19, 5)"
      ]
     },
     "execution_count": 6,
     "metadata": {},
     "output_type": "execute_result"
    }
   ],
   "source": [
    "df.shape"
   ]
  },
  {
   "cell_type": "code",
   "execution_count": 7,
   "metadata": {},
   "outputs": [
    {
     "data": {
      "text/plain": [
       "(17, 5)"
      ]
     },
     "execution_count": 7,
     "metadata": {},
     "output_type": "execute_result"
    }
   ],
   "source": [
    "mask_two = df[(df['theme'] == 'Collectable Minifigures') | (df['theme'] == 'Miscellaneous')].index\n",
    "df.drop(mask_two, inplace=True)\n",
    "df.shape\n"
   ]
  },
  {
   "cell_type": "code",
   "execution_count": 8,
   "metadata": {},
   "outputs": [
    {
     "name": "stdout",
     "output_type": "stream",
     "text": [
      "['Architecture', 'Star Wars', 'Jurassic World', 'Dots', 'Friends']\n"
     ]
    }
   ],
   "source": [
    "theme_list = []\n",
    "for item in df['theme'].sample(5):\n",
    "    theme_list.append(item)\n",
    "print(theme_list)"
   ]
  },
  {
   "cell_type": "code",
   "execution_count": 9,
   "metadata": {},
   "outputs": [],
   "source": [
    "df.to_csv('./theme_list.csv')"
   ]
  },
  {
   "cell_type": "code",
   "execution_count": 10,
   "metadata": {},
   "outputs": [
    {
     "data": {
      "text/plain": [
       "<Response [500]>"
      ]
     },
     "execution_count": 10,
     "metadata": {},
     "output_type": "execute_result"
    }
   ],
   "source": [
    "# set_list = requests.get(f'https://brickset.com/api/v3.asmx/getYears?apiKey={KEY_TWO}&theme={theme_list}')\n",
    "parameters = {'theme' : 'Star Wars'}\n",
    "response = requests.get(f\"https://brickset.com/api/v3.asmx/getSets?apiKey={KEY_TWO}&params={parameters}\")\n",
    "\n",
    "response\n",
    "# set_data = set_list.json()\n",
    "# set_data\n",
    "# set_df = pd.json_normalize(set_data, 'sets')\n",
    "# set_df.to_csv('./set_list.csv')\n",
    "\n",
    "# response = requests.get(f'https://brickset.com/api/v3.asmx/getYears?apiKey={KEY_TWO}&theme={parameters}')\n",
    "# response\n"
   ]
  }
 ],
 "metadata": {
  "kernelspec": {
   "display_name": "Python 3.10.1 ('LegoProject': venv)",
   "language": "python",
   "name": "python3"
  },
  "language_info": {
   "codemirror_mode": {
    "name": "ipython",
    "version": 3
   },
   "file_extension": ".py",
   "mimetype": "text/x-python",
   "name": "python",
   "nbconvert_exporter": "python",
   "pygments_lexer": "ipython3",
   "version": "3.10.1"
  },
  "orig_nbformat": 4,
  "vscode": {
   "interpreter": {
    "hash": "e880f88284eb8328b652a29ec39a1056e20ed77630b5065dc39b8a8d12f605eb"
   }
  }
 },
 "nbformat": 4,
 "nbformat_minor": 2
}
